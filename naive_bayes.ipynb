{
 "cells": [
  {
   "cell_type": "markdown",
   "id": "faa54c3d-ce5e-4a47-9fd1-bb2ddb12f533",
   "metadata": {},
   "source": [
    "## Naive Bayes\n",
    "### Feb 13, 2024\n",
    "#### Kaylee Cho"
   ]
  },
  {
   "cell_type": "code",
   "execution_count": 2,
   "id": "7859a22a-4b75-453c-85e4-56fc8711ce4f",
   "metadata": {},
   "outputs": [],
   "source": [
    "import pandas as pd\n",
    "import numpy as np\n",
    "import matplotlib.pyplot as plt"
   ]
  },
  {
   "cell_type": "markdown",
   "id": "320b1cbe-a4e4-496f-b957-bc48194abc16",
   "metadata": {},
   "source": [
    "#### 1.1 Explore and clean Lingspam data**"
   ]
  },
  {
   "cell_type": "code",
   "execution_count": 3,
   "id": "04cd3bd7-89ab-4639-ba62-d1ce1dc6d11a",
   "metadata": {},
   "outputs": [
    {
     "data": {
      "text/html": [
       "<div>\n",
       "<style scoped>\n",
       "    .dataframe tbody tr th:only-of-type {\n",
       "        vertical-align: middle;\n",
       "    }\n",
       "\n",
       "    .dataframe tbody tr th {\n",
       "        vertical-align: top;\n",
       "    }\n",
       "\n",
       "    .dataframe thead th {\n",
       "        text-align: right;\n",
       "    }\n",
       "</style>\n",
       "<table border=\"1\" class=\"dataframe\">\n",
       "  <thead>\n",
       "    <tr style=\"text-align: right;\">\n",
       "      <th></th>\n",
       "      <th>spam</th>\n",
       "      <th>message</th>\n",
       "    </tr>\n",
       "  </thead>\n",
       "  <tbody>\n",
       "    <tr>\n",
       "      <th>0</th>\n",
       "      <td>False</td>\n",
       "      <td>Subject: re : 2 . 882 s - &gt; np np  &gt; date : su...</td>\n",
       "    </tr>\n",
       "    <tr>\n",
       "      <th>1</th>\n",
       "      <td>False</td>\n",
       "      <td>Subject: s - &gt; np + np  the discussion of s - ...</td>\n",
       "    </tr>\n",
       "    <tr>\n",
       "      <th>2</th>\n",
       "      <td>False</td>\n",
       "      <td>Subject: 2 . 882 s - &gt; np np  . . . for me it ...</td>\n",
       "    </tr>\n",
       "    <tr>\n",
       "      <th>3</th>\n",
       "      <td>False</td>\n",
       "      <td>Subject: gent conference  \" for the listserv \"...</td>\n",
       "    </tr>\n",
       "    <tr>\n",
       "      <th>4</th>\n",
       "      <td>False</td>\n",
       "      <td>Subject: query : causatives in korean  could a...</td>\n",
       "    </tr>\n",
       "    <tr>\n",
       "      <th>...</th>\n",
       "      <td>...</td>\n",
       "      <td>...</td>\n",
       "    </tr>\n",
       "    <tr>\n",
       "      <th>2888</th>\n",
       "      <td>True</td>\n",
       "      <td>Subject: .  international driver ' s license n...</td>\n",
       "    </tr>\n",
       "    <tr>\n",
       "      <th>2889</th>\n",
       "      <td>True</td>\n",
       "      <td>Subject: new on 95 . 8 capital fm  this is new...</td>\n",
       "    </tr>\n",
       "    <tr>\n",
       "      <th>2890</th>\n",
       "      <td>True</td>\n",
       "      <td>Subject: re : new medical technology  company ...</td>\n",
       "    </tr>\n",
       "    <tr>\n",
       "      <th>2891</th>\n",
       "      <td>True</td>\n",
       "      <td>Subject: re : your request for an overview  ye...</td>\n",
       "    </tr>\n",
       "    <tr>\n",
       "      <th>2892</th>\n",
       "      <td>True</td>\n",
       "      <td>Subject: new on capital fm  this is new at htt...</td>\n",
       "    </tr>\n",
       "  </tbody>\n",
       "</table>\n",
       "<p>2893 rows × 2 columns</p>\n",
       "</div>"
      ],
      "text/plain": [
       "       spam                                            message\n",
       "0     False  Subject: re : 2 . 882 s - > np np  > date : su...\n",
       "1     False  Subject: s - > np + np  the discussion of s - ...\n",
       "2     False  Subject: 2 . 882 s - > np np  . . . for me it ...\n",
       "3     False  Subject: gent conference  \" for the listserv \"...\n",
       "4     False  Subject: query : causatives in korean  could a...\n",
       "...     ...                                                ...\n",
       "2888   True  Subject: .  international driver ' s license n...\n",
       "2889   True  Subject: new on 95 . 8 capital fm  this is new...\n",
       "2890   True  Subject: re : new medical technology  company ...\n",
       "2891   True  Subject: re : your request for an overview  ye...\n",
       "2892   True  Subject: new on capital fm  this is new at htt...\n",
       "\n",
       "[2893 rows x 2 columns]"
      ]
     },
     "execution_count": 3,
     "metadata": {},
     "output_type": "execute_result"
    }
   ],
   "source": [
    "# 1.1.1\n",
    "import textwrap\n",
    "# read csv\n",
    "emails = pd.read_csv(r\"C:\\Users\\pc\\OneDrive\\바탕 화면\\INFO 371\\jupyter\\data\\lingspam-emails.csv\", sep=\"\\t\")\n",
    "# extract spam and message columns\n",
    "emails = emails[[\"spam\", \"message\"]]\n",
    "def wrap_text(text):\n",
    "    return textwrap.fill(text, width=80)\n",
    "# apply text wrapping to the message column\n",
    "emails[\"message\"] = emails[\"message\"].apply(wrap_text)\n",
    "emails"
   ]
  },
  {
   "cell_type": "markdown",
   "id": "8688d8c7-e362-4fbc-8e78-87d5bc1064d2",
   "metadata": {},
   "source": [
    "#### 1.2 priors and probabilities"
   ]
  },
  {
   "cell_type": "code",
   "execution_count": 4,
   "id": "77cd3836-e12f-4ec3-9a0c-8357df0c8f9e",
   "metadata": {},
   "outputs": [
    {
     "name": "stdout",
     "output_type": "stream",
     "text": [
      "Pr(S = 1): 0.16626339440027654\n",
      "Pr(S = 0): 0.8337366055997235\n",
      "Pr(w = 1): 0.04839267196681645\n",
      "Pr(w = 0): 0.9516073280331836\n",
      "Pr(w = 1|S = 1): 0.24116424116424115\n",
      "Pr(w = 1|S = 0): 0.009950248756218905\n",
      "Pr(w = 0|S = 1): 0.7588357588357587\n",
      "Pr(w = 0|S = 0): 0.990049751243781\n"
     ]
    }
   ],
   "source": [
    "# 1.2.1 - I kind of solved all of the follow up questions here before reading the questions...!\n",
    "Pr_S1 = np.mean(emails['spam'] == True) # Pr(S = 1)\n",
    "Pr_S0 = 1 - Pr_S1 # Pr(S = 0)\n",
    "word = \"million\"\n",
    "# case doesn't matter\n",
    "Pr_W1 = (emails['message'].str.contains(word, case=False)).mean() # Pr(w = 1)\n",
    "Pr_W0 = 1 - Pr_W1 # Pr(w = 0)\n",
    "Pr_W1_S1 = ((emails['spam'] == True) & (emails['message'].str.contains(word, case=False))).mean()/Pr_S1 # Pr(w = 1|S = 1)\n",
    "Pr_W1_S0 = ((emails['spam'] == False) & (emails['message'].str.contains(word, case=False))).mean()/Pr_S0 # Pr(w = 1|S = 0)\n",
    "Pr_W0_S1 = ((emails['spam'] == True) & (~emails['message'].str.contains(word, case=False))).mean()/Pr_S1 # Pr(w = 0|S = 1)\n",
    "Pr_W0_S0 = ((emails['spam'] == False) & (~emails['message'].str.contains(word, case=False))).mean()/Pr_S0 # Pr(w = 0|S = 0)\n",
    "print(\"Pr(S = 1):\", Pr_S1)\n",
    "print(\"Pr(S = 0):\", Pr_S0)\n",
    "print(\"Pr(w = 1):\", Pr_W1)\n",
    "print(\"Pr(w = 0):\", Pr_W0)\n",
    "print(\"Pr(w = 1|S = 1):\", Pr_W1_S1)\n",
    "print(\"Pr(w = 1|S = 0):\", Pr_W1_S0)\n",
    "print(\"Pr(w = 0|S = 1):\", Pr_W0_S1)\n",
    "print(\"Pr(w = 0|S = 0):\", Pr_W0_S0)"
   ]
  },
  {
   "cell_type": "code",
   "execution_count": 5,
   "id": "77c37262-88af-42be-9b5f-51e5e584315f",
   "metadata": {},
   "outputs": [
    {
     "name": "stdout",
     "output_type": "stream",
     "text": [
      "Accuracy: 0.8337366055997235\n"
     ]
    }
   ],
   "source": [
    "# 1.2.2\n",
    "from sklearn.metrics import accuracy_score\n",
    "\n",
    "y = emails['spam']\n",
    "# naive model - predicts all emails as non-spam (majority category)\n",
    "naive_model = pd.Series(False, index=emails.index)\n",
    "# calculate accuracy\n",
    "accuracy = accuracy_score(emails['spam'], naive_model)\n",
    "# Output accuracy and confusion matrix\n",
    "print(\"Accuracy:\", accuracy)"
   ]
  },
  {
   "cell_type": "code",
   "execution_count": 6,
   "id": "03623af2-17aa-4c35-9555-268d9cea4fd6",
   "metadata": {},
   "outputs": [
    {
     "data": {
      "text/plain": [
       "0       0\n",
       "1       0\n",
       "2       0\n",
       "3       0\n",
       "4       0\n",
       "       ..\n",
       "2888    0\n",
       "2889    1\n",
       "2890    0\n",
       "2891    1\n",
       "2892    1\n",
       "Name: message, Length: 2893, dtype: int32"
      ]
     },
     "execution_count": 6,
     "metadata": {},
     "output_type": "execute_result"
    }
   ],
   "source": [
    "# 1.2.3\n",
    "# more intuitive to work with logical values that implies results as number\n",
    "x = emails.message.str.lower().str.contains(\"million\").astype(int)\n",
    "x"
   ]
  },
  {
   "cell_type": "code",
   "execution_count": 7,
   "id": "7bca3ca3-9d8f-41c1-a4d7-dd727cfb2f91",
   "metadata": {},
   "outputs": [
    {
     "name": "stdout",
     "output_type": "stream",
     "text": [
      "Pr(S = 1): 0.16626339440027654\n",
      "Pr(S = 0): 0.8337366055997235\n"
     ]
    }
   ],
   "source": [
    "# 1.2.4\n",
    "Pr_S1 = np.mean(emails['spam'] == True) # Pr(S = 1)\n",
    "Pr_S0 = 1 - Pr_S1 # Pr(S = 0)\n",
    "print(\"Pr(S = 1):\", Pr_S1)\n",
    "print(\"Pr(S = 0):\", Pr_S0)"
   ]
  },
  {
   "cell_type": "markdown",
   "id": "ef487f6e-576e-4aed-aa82-c32abe6d4c6e",
   "metadata": {},
   "source": [
    "#### 1.3 Conditional probabilities"
   ]
  },
  {
   "cell_type": "code",
   "execution_count": 8,
   "id": "c79535c6-ee8f-4e9b-a91c-91ae3243afc0",
   "metadata": {},
   "outputs": [
    {
     "name": "stdout",
     "output_type": "stream",
     "text": [
      "Pr(w = 1): 0.04839267196681645\n",
      "Pr(w = 0): 0.9516073280331836\n"
     ]
    }
   ],
   "source": [
    "# 1.3.1\n",
    "Pr_W1 = np.mean(x == 1) # Pr(w = 1)\n",
    "Pr_W0 = 1 - Pr_W1 # Pr(w = 0)\n",
    "print(\"Pr(w = 1):\", Pr_W1)\n",
    "print(\"Pr(w = 0):\", Pr_W0)"
   ]
  },
  {
   "cell_type": "code",
   "execution_count": 9,
   "id": "d4c3712d-b908-4400-b6ca-40729c0e282b",
   "metadata": {},
   "outputs": [
    {
     "name": "stdout",
     "output_type": "stream",
     "text": [
      "Pr(w = 1|S = 1): 0.24116424116424115\n",
      "Pr(w = 1|S = 0): 0.009950248756218905\n"
     ]
    }
   ],
   "source": [
    "# 1.3.2\n",
    "Pr_W1_S1 = ((emails['spam'] == True) & (x == 1)).mean()/Pr_S1 # Pr(w = 1|S = 1)\n",
    "Pr_W1_S0 = ((emails['spam'] == False) & (x == 1)).mean()/Pr_S0 # Pr(w = 1|S = 0)\n",
    "print(\"Pr(w = 1|S = 1):\", Pr_W1_S1)\n",
    "print(\"Pr(w = 1|S = 0):\", Pr_W1_S0)"
   ]
  },
  {
   "cell_type": "code",
   "execution_count": 10,
   "id": "5bdbb5cc-d0eb-41c0-a082-c5036a021904",
   "metadata": {},
   "outputs": [
    {
     "name": "stdout",
     "output_type": "stream",
     "text": [
      "Pr(S = 1|w = 1): 0.8285714285714286\n",
      "Pr(S = 1|w = 0): 0.1325826371231384\n"
     ]
    }
   ],
   "source": [
    "# 1.3.3\n",
    "Pr_S1_W1 = (Pr_W1_S1 * Pr_S1)/Pr_W1 # Pr(S = 1|w = 1)\n",
    "Pr_W0_S1 = ((emails['spam'] == True) & (x == 0)).mean()/Pr_S1  # Pr(w = 0|S = 1)\n",
    "Pr_S1_W0 = (Pr_W0_S1 * Pr_S1)/Pr_W0 # Pr(S = 1|w = 0)\n",
    "print(\"Pr(S = 1|w = 1):\", Pr_S1_W1)\n",
    "print(\"Pr(S = 1|w = 0):\", Pr_S1_W0)"
   ]
  },
  {
   "cell_type": "markdown",
   "id": "234e923b-80cf-4de2-8f7e-4f5f17f16fcd",
   "metadata": {},
   "source": [
    "**1.3.4** <br>\n",
    "**Which of these probabilities have to sum to one?** <br>\n",
    "e.g. Pr(w = 1) + Pr(w = 0) = 1 <br>\n",
    "e.g. Pr(s = 1) + pr(s = 0) = 1 <br>\n",
    "The reason why the above probabilities sum up to one is because adding up those two cases includes all cases in the sample space. <br>\n",
    "Adding on, there are also examples that does not add up to 1 when added. For instance, <br>\n",
    "e.g. Pr(w = 1|S = 1) + Pr(w = 1|S = 0) != 1 (it's actually 0.2511...) <br>\n",
    "The reason is because the specified conditional probabilities above doesn't necessarily contain all the possible cases in the sample space. Instead they represent probabilities conditioned on specific events which doesn't encompass all possible outcomes in the sample space of the conditioning variable. It would be the same for any other combinations above expect for the two cases that I mentioned prior to this explantion which adds up to 1."
   ]
  },
  {
   "cell_type": "markdown",
   "id": "885a65cb-bc42-490a-8fcd-bcef6fc09868",
   "metadata": {},
   "source": [
    "#### 1.4 Predict"
   ]
  },
  {
   "cell_type": "code",
   "execution_count": 11,
   "id": "8e803f1f-b81c-4611-905d-b0d77ec71b59",
   "metadata": {},
   "outputs": [
    {
     "name": "stdout",
     "output_type": "stream",
     "text": [
      "Pr(S = 1|w = 1): 0.8285714285714286\n",
      "Pr(S = 0|w = 0): 0.8674173628768616\n"
     ]
    },
    {
     "data": {
      "text/plain": [
       "0       False\n",
       "1       False\n",
       "2       False\n",
       "3       False\n",
       "4       False\n",
       "        ...  \n",
       "2888    False\n",
       "2889     True\n",
       "2890    False\n",
       "2891     True\n",
       "2892     True\n",
       "Length: 2893, dtype: bool"
      ]
     },
     "execution_count": 11,
     "metadata": {},
     "output_type": "execute_result"
    }
   ],
   "source": [
    "# 1.4.1\n",
    "# 0 if word not included, 1 if word included\n",
    "Pr_S0_W0 = (Pr_W0_S0 * Pr_S0)/Pr_W0\n",
    "print(\"Pr(S = 1|w = 1):\", Pr_S1_W1)\n",
    "print(\"Pr(S = 0|w = 0):\", Pr_S0_W0)\n",
    "# if word exists than spam, if not than it's non-spam (0.5 threshold)\n",
    "x = emails.message.str.lower().str.contains(\"million\").astype(int)\n",
    "predict = []\n",
    "for i in x:\n",
    "    if (i == 0):\n",
    "        predict.append(False) # non-spam\n",
    "    else:\n",
    "        predict.append(True) # spam\n",
    "predict = pd.Series(predict, index=range(len(predict)))\n",
    "predict"
   ]
  },
  {
   "cell_type": "code",
   "execution_count": 12,
   "id": "f35030b9-98cf-4062-84fe-aec2cc92ddc5",
   "metadata": {},
   "outputs": [
    {
     "name": "stdout",
     "output_type": "stream",
     "text": [
      "confusion matrix:\n",
      "(tp, fp, fn, tn): 116 24 365 2388\n",
      "accuracy: 0.8655375043207743\n",
      "precision: 0.8285714285714286\n",
      "recall: 0.24116424116424118\n"
     ]
    }
   ],
   "source": [
    "# 1.4.2\n",
    "# print the resulting confusion matrix - compute accuracy, precision, and recall\n",
    "tp = ((emails['spam'] == True) & (predict == True)).sum()\n",
    "fn = ((emails['spam'] == True) & (predict == False)).sum()\n",
    "fp = ((emails['spam'] == False) & (predict == True)).sum()\n",
    "tn = ((emails['spam'] == False) & (predict == False)).sum()\n",
    "print(\"confusion matrix:\")\n",
    "print(\"(tp, fp, fn, tn):\", tp, fp, fn, tn)\n",
    "accuracy = (tn+tp)/(tp+fp+fn+tn)\n",
    "precision = tp/(tp+fp) # how many retrieved items are relevant?\n",
    "recall = tp/(tp+fn) # how many relevant items are retrieved?\n",
    "print(\"accuracy:\", accuracy)\n",
    "print(\"precision:\", precision)\n",
    "print(\"recall:\", recall)"
   ]
  },
  {
   "cell_type": "markdown",
   "id": "0cd631a7-1953-470b-b0a5-944c0422c897",
   "metadata": {},
   "source": [
    "**1.4.3**\n",
    "* which steps above constitute model training?\n",
    "* In which steps do you use trained model? What is a trained model in this case?\n",
    "* hint: a trained model is all you need to make predictions from a dataset. <br>\n",
    "ANSWER: model training involves calculating conditional probabilties. This process constitutes model training because it involves learning the parameters of the model from the training data. Making predictions is where we use those trained model to make predictions."
   ]
  },
  {
   "cell_type": "markdown",
   "id": "169a29d1-8719-4ded-a85c-5e642e252429",
   "metadata": {},
   "source": [
    "#### 1.5 Use more words"
   ]
  },
  {
   "cell_type": "code",
   "execution_count": 13,
   "id": "e85d6a1a-2587-4e7b-8055-dccba7fa40bf",
   "metadata": {},
   "outputs": [
    {
     "name": "stdout",
     "output_type": "stream",
     "text": [
      "Pr(S = 1): 0.16626339440027654\n",
      "Pr(S = 0): 0.8337366055997235\n",
      "Pr(w = 1): 0.23366747321119943\n",
      "Pr(w = 0): 0.7663325267888006\n",
      "Pr(w = 1|S = 1): 0.010395010395010394\n",
      "Pr(w = 1|S = 0): 0.27819237147595355\n",
      "Pr(S = 1|w = 1): 0.007396449704142012\n",
      "Pr(S = 1|w = 0): 0.21470455570590888\n",
      "predictions start\n",
      "Pr(S = 1|w = 1): 0.007396449704142012\n",
      "Pr(S = 0|w = 0): 0.785295444294091\n",
      "confusion matrix:\n",
      "(tp, fp, fn, tn): 0 0 481 2412\n",
      "accuracy: 0.8337366055997235\n",
      "precision: nan\n",
      "recall: 0.0\n"
     ]
    }
   ],
   "source": [
    "import warnings\n",
    "warnings.filterwarnings(\"ignore\")\n",
    "# 1.5.1 - word: \"conference\"\n",
    "# repeat the steps above for words conderence and the, and a few words of your choice.\n",
    "# Fit the model, predict the spam status, and print confusion matrix and precision/recall.\n",
    "# 1.2.1 - I kind of solved all of the follow up questions here before reading the questions...!\n",
    "Pr_S1 = np.mean(emails['spam'] == True) # Pr(S = 1)\n",
    "Pr_S0 = 1 - Pr_S1 # Pr(S = 0)\n",
    "word = \"conference\"\n",
    "# case doesn't matter\n",
    "Pr_W1 = (emails['message'].str.contains(word, case=False)).mean() # Pr(w = 1)\n",
    "Pr_W0 = 1 - Pr_W1 # Pr(w = 0)\n",
    "Pr_W1_S1 = ((emails['spam'] == True) & (emails['message'].str.contains(word, case=False))).mean()/Pr_S1 # Pr(w = 1|S = 1)\n",
    "Pr_W1_S0 = ((emails['spam'] == False) & (emails['message'].str.contains(word, case=False))).mean()/Pr_S0 # Pr(w = 1|S = 0)\n",
    "Pr_S1_W1 = (Pr_W1_S1 * Pr_S1)/Pr_W1 # Pr(S = 1|w = 1)\n",
    "Pr_W0_S1 = ((emails['spam'] == True) & (~emails['message'].str.contains(word, case=False))).mean()/Pr_S1  # Pr(w = 0|S = 1)\n",
    "Pr_S1_W0 = (Pr_W0_S1 * Pr_S1)/Pr_W0 # Pr(S = 1|w = 0)\n",
    "print(\"Pr(S = 1):\", Pr_S1)\n",
    "print(\"Pr(S = 0):\", Pr_S0)\n",
    "print(\"Pr(w = 1):\", Pr_W1)\n",
    "print(\"Pr(w = 0):\", Pr_W0)\n",
    "print(\"Pr(w = 1|S = 1):\", Pr_W1_S1)\n",
    "print(\"Pr(w = 1|S = 0):\", Pr_W1_S0)\n",
    "print(\"Pr(S = 1|w = 1):\", Pr_S1_W1) # 0.0074\n",
    "print(\"Pr(S = 1|w = 0):\", Pr_S1_W0) # 0.2147\n",
    "\n",
    "# 0 if word not included, 1 if word included\n",
    "print(\"predictions start\")\n",
    "Pr_W0_S0 = ((emails['spam'] == False) & (~emails['message'].str.contains(word, case=False))).mean()/Pr_S0 # Pr(w = 0|S = 0)\n",
    "Pr_S0_W0 = (Pr_W0_S0 * Pr_S0)/Pr_W0\n",
    "print(\"Pr(S = 1|w = 1):\", Pr_S1_W1) # 0.007 - if word is there: predict non-spam\n",
    "print(\"Pr(S = 0|w = 0):\", Pr_S0_W0) # 0.785 - if word is not there: predict non-spam\n",
    "\n",
    "# if word exists than spam, if not than it's non-spam (0.5 threshold)\n",
    "x = emails.message.str.lower().str.contains(word).astype(int)\n",
    "predict = []\n",
    "for i in x:\n",
    "    if (i == 0):\n",
    "        predict.append(False) # non-spam\n",
    "    else:\n",
    "        predict.append(False) # non-spam\n",
    "predict = pd.Series(predict, index=range(len(predict)))\n",
    "\n",
    "# print the resulting confusion matrix - compute accuracy, precision, and recall\n",
    "tp = ((emails['spam'] == True) & (predict == True)).sum()\n",
    "fn = ((emails['spam'] == True) & (predict == False)).sum()\n",
    "fp = ((emails['spam'] == False) & (predict == True)).sum()\n",
    "tn = ((emails['spam'] == False) & (predict == False)).sum()\n",
    "print(\"confusion matrix:\")\n",
    "print(\"(tp, fp, fn, tn):\", tp, fp, fn, tn)\n",
    "accuracy = (tn+tp)/(tp+fp+fn+tn)\n",
    "precision = tp/(tp+fp) # how many retrieved items are relevant?\n",
    "recall = tp/(tp+fn) # how many relevant items are retrieved?\n",
    "print(\"accuracy:\", accuracy)\n",
    "print(\"precision:\", precision)\n",
    "print(\"recall:\", recall)"
   ]
  },
  {
   "cell_type": "markdown",
   "id": "f7fc6bbe-97c1-4a6a-a807-dd79cdf4c2b2",
   "metadata": {},
   "source": [
    "Description: <br>\n",
    "Accuracy looks about fine which is 83 - not too low and not too high. <br>\n",
    "precision comes out as a nan value since it has 0 on the denominator. <br>\n",
    "Also, recall value is zero since the numerator is 0. Reason for those value is because the model training involves naive model which predicts all cases as non-spam resulting FP and TP as 0. This came from conditional probability values calculated above, and that's why we have nan for precision and 0 for recall. <br>\n",
    "Moreover, word conference appears in much smaller percentage of spam emails(1%) compared to \n",
    "the non-spam emails(27.8%). Thereofore, the word \"conference\" less likely to effectively discriminate betweeen spam and non-spam emails."
   ]
  },
  {
   "cell_type": "code",
   "execution_count": 14,
   "id": "866536b3-6d01-43ed-bef1-674a4621f2ec",
   "metadata": {},
   "outputs": [
    {
     "name": "stdout",
     "output_type": "stream",
     "text": [
      "Pr(S = 1): 0.16626339440027654\n",
      "Pr(S = 0): 0.8337366055997235\n",
      "Pr(w = 1): 0.9726927065330108\n",
      "Pr(w = 0): 0.027307293466989235\n",
      "Pr(w = 1|S = 1): 0.9355509355509355\n",
      "Pr(w = 1|S = 0): 0.9800995024875622\n",
      "Pr(S = 1|w = 1): 0.15991471215351813\n",
      "Pr(S = 1|w = 0): 0.39240506329113994\n",
      "predictions start\n",
      "Pr(S = 1|w = 1): 0.15991471215351813\n",
      "Pr(S = 0|w = 0): 0.6075949367088619\n",
      "confusion matrix:\n",
      "(tp, fp, fn, tn): 0 0 481 2412\n",
      "accuracy: 0.8337366055997235\n",
      "precision: nan\n",
      "recall: 0.0\n"
     ]
    }
   ],
   "source": [
    "# 1.5.1 - word: \"the\"\n",
    "# repeat the steps above for words conderence and the, and a few words of your choice.\n",
    "# Fit the model, predict the spam status, and print confusion matrix and precision/recall.\n",
    "# 1.2.1 - I kind of solved all of the follow up questions here before reading the questions...!\n",
    "Pr_S1 = np.mean(emails['spam'] == True) # Pr(S = 1)\n",
    "Pr_S0 = 1 - Pr_S1 # Pr(S = 0)\n",
    "word = \"the\"\n",
    "# case doesn't matter\n",
    "Pr_W1 = (emails['message'].str.contains(word, case=False)).mean() # Pr(w = 1)\n",
    "Pr_W0 = 1 - Pr_W1 # Pr(w = 0)\n",
    "Pr_W1_S1 = ((emails['spam'] == True) & (emails['message'].str.contains(word, case=False))).mean()/Pr_S1 # Pr(w = 1|S = 1)\n",
    "Pr_W1_S0 = ((emails['spam'] == False) & (emails['message'].str.contains(word, case=False))).mean()/Pr_S0 # Pr(w = 1|S = 0)\n",
    "Pr_S1_W1 = (Pr_W1_S1 * Pr_S1)/Pr_W1 # Pr(S = 1|w = 1)\n",
    "Pr_W0_S1 = ((emails['spam'] == True) & (~emails['message'].str.contains(word, case=False))).mean()/Pr_S1  # Pr(w = 0|S = 1)\n",
    "Pr_S1_W0 = (Pr_W0_S1 * Pr_S1)/Pr_W0 # Pr(S = 1|w = 0)\n",
    "print(\"Pr(S = 1):\", Pr_S1)\n",
    "print(\"Pr(S = 0):\", Pr_S0)\n",
    "print(\"Pr(w = 1):\", Pr_W1)\n",
    "print(\"Pr(w = 0):\", Pr_W0)\n",
    "print(\"Pr(w = 1|S = 1):\", Pr_W1_S1)\n",
    "print(\"Pr(w = 1|S = 0):\", Pr_W1_S0)\n",
    "print(\"Pr(S = 1|w = 1):\", Pr_S1_W1) # 0.0074\n",
    "print(\"Pr(S = 1|w = 0):\", Pr_S1_W0) # 0.2147\n",
    "\n",
    "# 0 if word not included, 1 if word included\n",
    "print(\"predictions start\")\n",
    "Pr_W0_S0 = ((emails['spam'] == False) & (~emails['message'].str.contains(word, case=False))).mean()/Pr_S0 # Pr(w = 0|S = 0)\n",
    "Pr_S0_W0 = (Pr_W0_S0 * Pr_S0)/Pr_W0\n",
    "print(\"Pr(S = 1|w = 1):\", Pr_S1_W1) # 0.007 - if word is there: predict non-spam\n",
    "print(\"Pr(S = 0|w = 0):\", Pr_S0_W0) # 0.785 - if word is not there: predict non-spam\n",
    "\n",
    "# if word exists than spam, if not than it's non-spam (0.5 threshold)\n",
    "x = emails.message.str.lower().str.contains(word).astype(int)\n",
    "predict = []\n",
    "for i in x:\n",
    "    if (i == 0):\n",
    "        predict.append(False) # non-spam\n",
    "    else:\n",
    "        predict.append(False) # non-spam\n",
    "predict = pd.Series(predict, index=range(len(predict)))\n",
    "\n",
    "# print the resulting confusion matrix - compute accuracy, precision, and recall\n",
    "tp = ((emails['spam'] == True) & (predict == True)).sum()\n",
    "fn = ((emails['spam'] == True) & (predict == False)).sum()\n",
    "fp = ((emails['spam'] == False) & (predict == True)).sum()\n",
    "tn = ((emails['spam'] == False) & (predict == False)).sum()\n",
    "print(\"confusion matrix:\")\n",
    "print(\"(tp, fp, fn, tn):\", tp, fp, fn, tn)\n",
    "accuracy = (tn+tp)/(tp+fp+fn+tn)\n",
    "precision = tp/(tp+fp) # how many retrieved items are relevant?\n",
    "recall = tp/(tp+fn) # how many relevant items are retrieved?\n",
    "print(\"accuracy:\", accuracy)\n",
    "print(\"precision:\", precision)\n",
    "print(\"recall:\", recall)"
   ]
  },
  {
   "cell_type": "markdown",
   "id": "5c8a8c1b-8742-49bd-8c9d-b666783d8f51",
   "metadata": {},
   "source": [
    "Description: <br>\n",
    "Accuracy looks about fine. It's around 83 which is not too low and not too high. <br>\n",
    "Similar to conference, precision comes out as a nan value since it has 0 on the denominator. <br>\n",
    "Also, recall value is zero since the numerator is 0. Reason for those value is because the model training involves naive model which predicts all cases as non-spam resulting FP and TP as 0. This came from conditional probability values calculated above, and that's why we have nan for precision and 0 for recall. <br>\n",
    "Adding on, \"the\" doesn't work well beacuse it's a stop word, meaning that it's very common in both spam and non-spam emails. This indicates that it doesn't carry much discriminatory power. As a result, the model is unable to make meaningful predictions base on this word alone. Beacuse it's present in almost all emails, it doesn't help differentiate between spam and non-spam, hence resulting in poor model performance."
   ]
  },
  {
   "cell_type": "code",
   "execution_count": 15,
   "id": "d12f77f2-ab70-477a-a7c6-1a5dafb10c2f",
   "metadata": {},
   "outputs": [
    {
     "name": "stdout",
     "output_type": "stream",
     "text": [
      "Pr(S = 1): 0.16626339440027654\n",
      "Pr(S = 0): 0.8337366055997235\n",
      "Pr(w = 1): 0.0003456619426201175\n",
      "Pr(w = 0): 0.9996543380573799\n",
      "Pr(w = 1|S = 1): 0.0020790020790020787\n",
      "Pr(w = 1|S = 0): 0.0\n",
      "Pr(S = 1|w = 1): 1.0\n",
      "Pr(S = 1|w = 0): 0.16597510373443985\n",
      "predictions start\n",
      "Pr(S = 1|w = 1): 1.0\n",
      "Pr(S = 0|w = 0): 0.8340248962655602\n",
      "confusion matrix:\n",
      "(tp, fp, fn, tn): 1 0 480 2412\n",
      "accuracy: 0.8340822675423436\n",
      "precision: 1.0\n",
      "recall: 0.002079002079002079\n"
     ]
    }
   ],
   "source": [
    "# 1.5.1 - word: \"viagra\"\n",
    "# repeat the steps above for words conderence and the, and a few words of your choice.\n",
    "# Fit the model, predict the spam status, and print confusion matrix and precision/recall.\n",
    "# 1.2.1 - I kind of solved all of the follow up questions here before reading the questions...!\n",
    "Pr_S1 = np.mean(emails['spam'] == True) # Pr(S = 1)\n",
    "Pr_S0 = 1 - Pr_S1 # Pr(S = 0)\n",
    "word = \"viagra\"\n",
    "# case doesn't matter\n",
    "Pr_W1 = (emails['message'].str.contains(word, case=False)).mean() # Pr(w = 1)\n",
    "Pr_W0 = 1 - Pr_W1 # Pr(w = 0)\n",
    "Pr_W1_S1 = ((emails['spam'] == True) & (emails['message'].str.contains(word, case=False))).mean()/Pr_S1 # Pr(w = 1|S = 1)\n",
    "Pr_W1_S0 = ((emails['spam'] == False) & (emails['message'].str.contains(word, case=False))).mean()/Pr_S0 # Pr(w = 1|S = 0)\n",
    "Pr_S1_W1 = (Pr_W1_S1 * Pr_S1)/Pr_W1 # Pr(S = 1|w = 1)\n",
    "Pr_W0_S1 = ((emails['spam'] == True) & (~emails['message'].str.contains(word, case=False))).mean()/Pr_S1  # Pr(w = 0|S = 1)\n",
    "Pr_S1_W0 = (Pr_W0_S1 * Pr_S1)/Pr_W0 # Pr(S = 1|w = 0)\n",
    "print(\"Pr(S = 1):\", Pr_S1)\n",
    "print(\"Pr(S = 0):\", Pr_S0)\n",
    "print(\"Pr(w = 1):\", Pr_W1)\n",
    "print(\"Pr(w = 0):\", Pr_W0)\n",
    "print(\"Pr(w = 1|S = 1):\", Pr_W1_S1)\n",
    "print(\"Pr(w = 1|S = 0):\", Pr_W1_S0)\n",
    "print(\"Pr(S = 1|w = 1):\", Pr_S1_W1) # 0.0074\n",
    "print(\"Pr(S = 1|w = 0):\", Pr_S1_W0) # 0.2147\n",
    "\n",
    "# 0 if word not included, 1 if word included\n",
    "print(\"predictions start\")\n",
    "Pr_W0_S0 = ((emails['spam'] == False) & (~emails['message'].str.contains(word, case=False))).mean()/Pr_S0 # Pr(w = 0|S = 0)\n",
    "Pr_S0_W0 = (Pr_W0_S0 * Pr_S0)/Pr_W0\n",
    "print(\"Pr(S = 1|w = 1):\", Pr_S1_W1) # 1.0 - if word is there: predict spam\n",
    "print(\"Pr(S = 0|w = 0):\", Pr_S0_W0) # 0.84 - if word is not there: predict non-spam\n",
    "\n",
    "# if word exists than spam, if not than it's non-spam (0.5 threshold)\n",
    "x = emails.message.str.lower().str.contains(word).astype(int)\n",
    "predict = []\n",
    "for i in x:\n",
    "    if (i == 0):\n",
    "        predict.append(False) # non-spam\n",
    "    else:\n",
    "        predict.append(True) # spam\n",
    "predict = pd.Series(predict, index=range(len(predict)))\n",
    "\n",
    "# print the resulting confusion matrix - compute accuracy, precision, and recall\n",
    "tp = ((emails['spam'] == True) & (predict == True)).sum()\n",
    "fn = ((emails['spam'] == True) & (predict == False)).sum()\n",
    "fp = ((emails['spam'] == False) & (predict == True)).sum()\n",
    "tn = ((emails['spam'] == False) & (predict == False)).sum()\n",
    "print(\"confusion matrix:\")\n",
    "print(\"(tp, fp, fn, tn):\", tp, fp, fn, tn)\n",
    "accuracy = (tn+tp)/(tp+fp+fn+tn)\n",
    "precision = tp/(tp+fp) # how many retrieved items are relevant?\n",
    "recall = tp/(tp+fn) # how many relevant items are retrieved?\n",
    "print(\"accuracy:\", accuracy)\n",
    "print(\"precision:\", precision)\n",
    "print(\"recall:\", recall)"
   ]
  },
  {
   "cell_type": "markdown",
   "id": "39738b65-6896-4828-b875-c217db326908",
   "metadata": {},
   "source": [
    "Description: <br>\n",
    "The word viagra seems to be captured well since the model has very high precision indicating that it captures all the emails that contain the word \"viagra\" as spam. Accuracy seems just fine 83.4%, but there seems to be issue with recall value because it's very low with 0.002% rate. This indicates that actual positives that were correctly identified were very low in count meaning that the model is failing to identify many spam emails. Low precision rate suggests that the model may not be as effective in other scenarios where detecting all the spam emails as much as possible is essential."
   ]
  },
  {
   "cell_type": "markdown",
   "id": "a9d0517f-117b-4b84-bb3a-46bba67aa839",
   "metadata": {},
   "source": [
    "### 2. Navie Bayes"
   ]
  },
  {
   "cell_type": "markdown",
   "id": "7cd48b1e-c590-4fcc-b998-0c5b2b13b687",
   "metadata": {},
   "source": [
    "#### 2.1 Prepare Data"
   ]
  },
  {
   "cell_type": "code",
   "execution_count": 16,
   "id": "fbdfe2e9-f90d-4b99-ace7-5cf5964bb0c2",
   "metadata": {},
   "outputs": [
    {
     "name": "stdout",
     "output_type": "stream",
     "text": [
      "How many different documents? 2893\n",
      "How maby different tokens? 60925\n"
     ]
    }
   ],
   "source": [
    "# 2.1.1 - vectorize emails so you have a DTM (document term matrix)\n",
    "from sklearn.feature_extraction.text import CountVectorizer\n",
    "vectorizer = CountVectorizer(binary=True) # 1: if word is present; 0: if not\n",
    "# define vectorizer\n",
    "X = vectorizer.fit_transform(emails.message)\n",
    "vocab = vectorizer.get_feature_names_out() # prints out actual words\n",
    "token_length = len(vocab)\n",
    "email_count = X.shape[0]\n",
    "print(\"How many different documents?\", email_count)\n",
    "print(\"How maby different tokens?\", token_length)"
   ]
  },
  {
   "cell_type": "code",
   "execution_count": 17,
   "id": "91442cf1-5328-4523-b6f0-cec78be70146",
   "metadata": {},
   "outputs": [
    {
     "name": "stdout",
     "output_type": "stream",
     "text": [
      "982    Subject: summary : parsing of ambiguous sequen...\n",
      "983    Subject: re : sapir - whorf and what to tell s...\n",
      "984    Subject: call for contributions  call for cont...\n",
      "Name: message, dtype: object\n",
      "['nooteboom' 'nootka' 'nope' 'nor' 'nora']\n"
     ]
    }
   ],
   "source": [
    "# 2.1.2\n",
    "X[982:985, 40041:40046] # rows 982 to 984, and columns 40,041 - 40,045\n",
    "# (a) which emails do the rows correspond to?\n",
    "print(emails['message'][982:985])\n",
    "# (b) which words do the columns correspond to?\n",
    "print(vocab[40041:40046])\n",
    "# (c) what do the '1's in the middle of the table mean?\n",
    "# one corresponds to the presence of the word in email\n",
    "# (d) what does zeros mean?\n",
    "# zero corresponds to the absence of the word in email"
   ]
  },
  {
   "cell_type": "code",
   "execution_count": 18,
   "id": "48e081d6-2d6a-4542-b55b-20897640fa5d",
   "metadata": {},
   "outputs": [],
   "source": [
    "# 2.1.3\n",
    "# split data into training and validation\n",
    "from sklearn.model_selection import train_test_split\n",
    "Xt, Xv, yt, yv = train_test_split(X, y, test_size = 0.2, random_state = 42)"
   ]
  },
  {
   "cell_type": "markdown",
   "id": "1b45bdd0-d75d-4cd0-a0be-c789bb19dcbc",
   "metadata": {},
   "source": [
    "**2.1.4** <br>\n",
    "naming scheme: <br>\n",
    "log probability of word present: log_Pr_W1 <br>\n",
    "log-likelihood of email being spam, given vector of words it contains: log_L_S1_W1 or log_L_S1_W0"
   ]
  },
  {
   "cell_type": "code",
   "execution_count": 19,
   "id": "7cd21234-003b-4a0b-ac7d-2b22c3cab743",
   "metadata": {},
   "outputs": [
    {
     "data": {
      "text/plain": [
       "0.1707000864304235"
      ]
     },
     "execution_count": 19,
     "metadata": {},
     "output_type": "execute_result"
    }
   ],
   "source": [
    "sum(yt == True)/len(yt)"
   ]
  },
  {
   "cell_type": "markdown",
   "id": "632b7ad4-294b-4ec3-97a4-e03584ebe000",
   "metadata": {},
   "source": [
    "#### 2.2 Compute log-likelihoods"
   ]
  },
  {
   "cell_type": "code",
   "execution_count": 20,
   "id": "3595544f-2bc0-4312-92ff-e796220ad734",
   "metadata": {},
   "outputs": [
    {
     "name": "stdout",
     "output_type": "stream",
     "text": [
      "logPr(S=1): -1.7678471428525\n",
      "logPr(S=0): -0.18717341174592203\n"
     ]
    }
   ],
   "source": [
    "# 2.2.1\n",
    "# implementing naive bayes... only use training data here..\n",
    "# i.e. we only look for the effect of word's presence (W=1)\n",
    "log_Pr_S1 = np.log(sum(yt == True)/len(yt))\n",
    "log_Pr_S0 = np.log(sum(yt == False)/len(yt))\n",
    "print(\"logPr(S=1):\", log_Pr_S1)\n",
    "print(\"logPr(S=0):\", log_Pr_S0)"
   ]
  },
  {
   "cell_type": "code",
   "execution_count": 21,
   "id": "e0e906cc-ce8d-4a58-ab5f-58eca07411c3",
   "metadata": {},
   "outputs": [
    {
     "name": "stdout",
     "output_type": "stream",
     "text": [
      "(2314, 60925)\n"
     ]
    },
    {
     "data": {
      "text/plain": [
       "(1919, 60925)"
      ]
     },
     "execution_count": 21,
     "metadata": {},
     "output_type": "execute_result"
    }
   ],
   "source": [
    "print(Xt.shape)\n",
    "spam_Xt = Xt[yt == True]# spam email in training dataset\n",
    "spam_Xt.shape\n",
    "nonspam_Xt = Xt[yt == False] # nonspam email in training dataset\n",
    "nonspam_Xt.shape"
   ]
  },
  {
   "cell_type": "code",
   "execution_count": 22,
   "id": "918a3c8d-7e55-4a01-b28e-c0f91c1d5c1f",
   "metadata": {},
   "outputs": [
    {
     "name": "stdout",
     "output_type": "stream",
     "text": [
      "log Pr(W = 1|S = 1): [[-1.25828479 -0.56188079 -0.69314718 ...        -inf  0.\n",
      "          nan]]\n",
      "log Pr(W = 1|S = 0): [[-1.74450658 -3.09247683 -7.74586823 ... -7.74630066        -inf\n",
      "         -inf]]\n"
     ]
    }
   ],
   "source": [
    "# 2.2.2 \n",
    "num_1_per_col = np.sum(Xt, axis = 0)\n",
    "num_0_per_col = Xt.shape[0] - num_1_per_col\n",
    "\n",
    "word_counts_spam = np.sum(Xt[yt == 1], axis=0)\n",
    "word_counts_non_spam = np.sum(Xt[yt == 0], axis=0)\n",
    "\n",
    "pr_w1_s1 = word_counts_spam / num_1_per_col\n",
    "pr_w1_s0 = word_counts_non_spam / num_0_per_col\n",
    "\n",
    "log_Pr_W1_S1 = np.log(pr_w1_s1)\n",
    "log_Pr_W1_S0 = np.log(pr_w1_s0)\n",
    "print(\"log Pr(W = 1|S = 1):\", log_Pr_W1_S1)\n",
    "print(\"log Pr(W = 1|S = 0):\", log_Pr_W1_S0)"
   ]
  },
  {
   "cell_type": "markdown",
   "id": "acbca8c3-e8d2-474b-9091-8abb4a764399",
   "metadata": {},
   "source": [
    "**2.2.3** <br>\n",
    "For both log probabilities, since there are 60925 words in the email the dimension of the vector will be 60925. Each element in these vectors correspond to the log probability of a specific word occuring in emails of the respective spam/not spam category."
   ]
  },
  {
   "cell_type": "markdown",
   "id": "f86497e2-a9cb-4e7a-afa2-8f1a5c3fc87d",
   "metadata": {},
   "source": [
    "#### 2.3 Predict"
   ]
  },
  {
   "cell_type": "code",
   "execution_count": 23,
   "id": "cf354509-a6fc-4939-a3b7-0ea619f5dd94",
   "metadata": {},
   "outputs": [],
   "source": [
    "# 2.3.1\n",
    "# Compute log-likelihood for class S = 1 using matrix product\n",
    "ll_S1 = log_Pr_S1 + (Xv @ log_Pr_W1_S1.T)\n",
    "\n",
    "# Compute log-likelihood for class S = 0 using matrix product\n",
    "ll_S0 = log_Pr_S0 + (Xv @ log_Pr_W1_S0.T)\n",
    "\n",
    "# print(\"log-likelihood (S=1|w):\", ll_S1)\n",
    "# print(\"log-likelihood (S=0|w):\", ll_S0)"
   ]
  },
  {
   "cell_type": "markdown",
   "id": "6e7ca348-526e-42f4-b719-67dafc7dbb09",
   "metadata": {},
   "source": [
    "**2.3.2** <br>\n",
    "I have (579, 1) as a shape for my log likelihood for each spam = 1 and spam = 0 case.\n",
    "The reason for having that specific number is beacuse we are doing predictions on validation dataset which has shape of (579, 60925)."
   ]
  },
  {
   "cell_type": "code",
   "execution_count": 24,
   "id": "a7979d23-38db-46e4-a211-38544f39ccfe",
   "metadata": {},
   "outputs": [
    {
     "name": "stdout",
     "output_type": "stream",
     "text": [
      "(579,)\n",
      "(579,)\n"
     ]
    }
   ],
   "source": [
    "# 2.3.3\n",
    "# Compare log-likelihoods for classes S = 1 and S = 0\n",
    "yv = yv.astype(int)\n",
    "predict = np.where(ll_S1 > ll_S0, 1, 0)\n",
    "predict = predict.ravel()\n",
    "print(predict.shape)\n",
    "print(yv.shape)\n",
    "# print(predict)\n",
    "# print(yv)"
   ]
  },
  {
   "cell_type": "code",
   "execution_count": 25,
   "id": "615a37cc-2093-4cb0-8784-549bdb4957ef",
   "metadata": {},
   "outputs": [
    {
     "name": "stdout",
     "output_type": "stream",
     "text": [
      "Confusion Matrix:\n",
      "[[493   0]\n",
      " [ 86   0]]\n",
      "Accuracy: 0.8514680483592401\n"
     ]
    }
   ],
   "source": [
    "# 2.3.4\n",
    "# Compute confusion matrix\n",
    "from sklearn.metrics import confusion_matrix\n",
    "\n",
    "conf_matrix = confusion_matrix(yv, predict)\n",
    "\n",
    "# Compute accuracy\n",
    "accuracy = np.sum(np.diag(conf_matrix)) / np.sum(conf_matrix)\n",
    "\n",
    "print(\"Confusion Matrix:\")\n",
    "print(conf_matrix)\n",
    "print(\"Accuracy:\", accuracy)"
   ]
  },
  {
   "cell_type": "markdown",
   "id": "9f0d54b7-e613-450b-b02f-3cb1c8be8900",
   "metadata": {},
   "source": [
    "**2.3.5** <br>\n",
    "The main reason for the mediocre result is likely the presence of zero probabilities and their impact on the log-likelihood calculation. Zero probabilities occur when the word in DTM doesn't appear in the validation data. When computing log likelihoods, taking the logarithm of zero results in negative infinity, and this means that if any word has a zero probability of occurring in that specific class, its log-likelihood will be negatively infinite. This makes the model essentially useless because it can't distinguish between classes based on such extreme values. Smoothing can fix this, which comes out in the next section."
   ]
  },
  {
   "cell_type": "markdown",
   "id": "9acf9733-d5ec-4cb0-96c9-692521c22b66",
   "metadata": {},
   "source": [
    "#### 2.4 Add smoothing"
   ]
  },
  {
   "cell_type": "code",
   "execution_count": 26,
   "id": "9828a407-846a-4ef7-b283-49be3d4aaa47",
   "metadata": {},
   "outputs": [],
   "source": [
    "# 2.4.1 + 2.4.2\n",
    "import numpy as np\n",
    "from sklearn.metrics import confusion_matrix, accuracy_score\n",
    "import math\n",
    "\n",
    "def fit_naive_bayes(Xt, yt, alpha):\n",
    "    # Compute priors\n",
    "    Pr_S1 = (np.sum(yt == 1) + alpha)/(len(yt) + (2 * alpha)) # prior probability of class S = 1\n",
    "    Pr_S0 = (np.sum(yt == 0) + alpha)/(len(yt) + (2 * alpha)) # prior probability of class S = 0\n",
    "\n",
    "    log_Pr_S1 = math.log(Pr_S1)\n",
    "    log_Pr_S0 = math.log(Pr_S0)\n",
    "    \n",
    "    word_counts_spam = np.sum(Xt[yt == 1], axis=0)\n",
    "    word_counts_non_spam = np.sum(Xt[yt == 0], axis=0)\n",
    "    \n",
    "    pr_w1_s1 = (word_counts_spam + alpha) / (np.sum(word_counts_spam) + (2 * alpha))\n",
    "    pr_w1_s0 = (word_counts_non_spam + alpha) / (np.sum(word_counts_non_spam) + (2 * alpha))\n",
    "    \n",
    "    log_Pr_W1_S1 = np.log(pr_w1_s1)\n",
    "    log_Pr_W1_S0 = np.log(pr_w1_s0)\n",
    "    \n",
    "    model = {\n",
    "        \"log_Pr_S1\": log_Pr_S1,\n",
    "        \"log_Pr_S0\": log_Pr_S0,\n",
    "        \"log_Pr_W1_S1\": log_Pr_W1_S1,\n",
    "        \"log_Pr_W1_S0\": log_Pr_W1_S0\n",
    "    }\n",
    "    \n",
    "    return model\n",
    "\n",
    "def predict_naive_bayes(model, Xv):\n",
    "    log_Pr_S1 = model[\"log_Pr_S1\"]\n",
    "    log_Pr_S0 = model[\"log_Pr_S0\"]\n",
    "    log_Pr_W1_S1 = model[\"log_Pr_W1_S1\"]\n",
    "    log_Pr_W1_S0 = model[\"log_Pr_W1_S0\"]\n",
    "    \n",
    "    # Compute log-likelihoods\n",
    "    ll_S1 = log_Pr_S1 + (Xv @ log_Pr_W1_S1.T)\n",
    "    ll_S0 = log_Pr_S0 + (Xv @ log_Pr_W1_S0.T)\n",
    "    \n",
    "    yhat = []\n",
    "    for i in range(Xv.shape[0]):\n",
    "        if ll_S1[i] > ll_S0[i]:\n",
    "            yhat.append(1)\n",
    "        else:\n",
    "            yhat.append(0)\n",
    "            \n",
    "    return yhat"
   ]
  },
  {
   "cell_type": "code",
   "execution_count": 27,
   "id": "43ee4113-866b-4e6f-b8c4-b6a1efaec930",
   "metadata": {},
   "outputs": [
    {
     "name": "stdout",
     "output_type": "stream",
     "text": [
      "confusion matrix with alpha 1: [[484   9]\n",
      " [  0  86]]\n",
      "accuracy with alpha 1: 0.9844559585492227\n",
      "confusion matrix with alpha 2: [[469  24]\n",
      " [  0  86]]\n",
      "accuracy with alpha 2: 0.9585492227979274\n",
      "confusion matrix with alpha 3: [[444  49]\n",
      " [  0  86]]\n",
      "accuracy with alpha 3: 0.9153713298791019\n"
     ]
    }
   ],
   "source": [
    "# 2.4.3 \n",
    "alpha1 = 0.2\n",
    "alpha2 = 0.5\n",
    "alpha3 = 0.9\n",
    "\n",
    "m1 = fit_naive_bayes(Xt, yt, alpha1)\n",
    "m1hat = predict_naive_bayes(m1, Xv)\n",
    "cm1 = confusion_matrix(yv, m1hat)\n",
    "accuracy1 = accuracy_score(yv, m1hat)\n",
    "\n",
    "m2 = fit_naive_bayes(Xt, yt, alpha2)\n",
    "m2hat = predict_naive_bayes(m2, Xv)\n",
    "cm2 = confusion_matrix(yv, m2hat)\n",
    "accuracy2 = accuracy_score(yv, m2hat)\n",
    "\n",
    "m3 = fit_naive_bayes(Xt, yt, alpha3)\n",
    "m3hat = predict_naive_bayes(m3, Xv)\n",
    "cm3 = confusion_matrix(yv, m3hat)\n",
    "accuracy3 = accuracy_score(yv, m3hat)\n",
    "\n",
    "print(\"confusion matrix with alpha 1:\", cm1)\n",
    "print(\"accuracy with alpha 1:\", accuracy1)\n",
    "\n",
    "print(\"confusion matrix with alpha 2:\", cm2)\n",
    "print(\"accuracy with alpha 2:\", accuracy2)\n",
    "\n",
    "print(\"confusion matrix with alpha 3:\", cm3)\n",
    "print(\"accuracy with alpha 3:\", accuracy3)"
   ]
  },
  {
   "cell_type": "code",
   "execution_count": 28,
   "id": "710edcdd-3b1d-47bb-bf76-1312bbc61916",
   "metadata": {},
   "outputs": [
    {
     "name": "stdout",
     "output_type": "stream",
     "text": [
      "confusion matrix with alpha =  1e-08 : [[492   1]\n",
      " [ 11  75]]\n",
      "accuracy with alpha = 1e-08 : 0.9792746113989638\n",
      "\n",
      "confusion matrix with alpha =  1e-07 : [[492   1]\n",
      " [ 10  76]]\n",
      "accuracy with alpha = 1e-07 : 0.9810017271157168\n",
      "\n",
      "confusion matrix with alpha =  1e-06 : [[492   1]\n",
      " [  7  79]]\n",
      "accuracy with alpha = 1e-06 : 0.9861830742659758\n",
      "\n",
      "confusion matrix with alpha =  9.999999999999999e-06 : [[492   1]\n",
      " [  7  79]]\n",
      "accuracy with alpha = 9.999999999999999e-06 : 0.9861830742659758\n",
      "\n",
      "confusion matrix with alpha =  9.999999999999999e-05 : [[492   1]\n",
      " [  5  81]]\n",
      "accuracy with alpha = 9.999999999999999e-05 : 0.9896373056994818\n",
      "\n",
      "confusion matrix with alpha =  0.001 : [[492   1]\n",
      " [  3  83]]\n",
      "accuracy with alpha = 0.001 : 0.9930915371329879\n",
      "\n",
      "confusion matrix with alpha =  0.01 : [[492   1]\n",
      " [  2  84]]\n",
      "accuracy with alpha = 0.01 : 0.9948186528497409\n",
      "\n",
      "confusion matrix with alpha =  0.1 : [[491   2]\n",
      " [  1  85]]\n",
      "accuracy with alpha = 0.1 : 0.9948186528497409\n",
      "\n",
      "confusion matrix with alpha =  1.0 : [[437  56]\n",
      " [  0  86]]\n",
      "accuracy with alpha = 1.0 : 0.9032815198618307\n",
      "\n",
      "confusion matrix with alpha =  10.0 : [[ 50 443]\n",
      " [  0  86]]\n",
      "accuracy with alpha = 10.0 : 0.23488773747841105\n",
      "\n"
     ]
    }
   ],
   "source": [
    "#  2.4.4\n",
    "alpha = 1e-8\n",
    "accuracies = []\n",
    "while alpha <= 10:\n",
    "    m = fit_naive_bayes(Xt, yt, alpha)\n",
    "    yhat = predict_naive_bayes(m, Xv)\n",
    "    cm = confusion_matrix(yv, yhat)\n",
    "    accuracy = accuracy_score(yv, yhat)\n",
    "    accuracies.append(accuracy)\n",
    "    print('confusion matrix with alpha = ', alpha, ':', cm)\n",
    "    print('accuracy with alpha =', alpha, ':', accuracy)\n",
    "    print()\n",
    "    alpha *= 10"
   ]
  },
  {
   "cell_type": "code",
   "execution_count": 29,
   "id": "ca4d46d2-692a-41e3-aab6-fcd4fe8eb9ae",
   "metadata": {},
   "outputs": [
    {
     "data": {
      "image/png": "[encoded data removed]",
      "text/plain": [
       "<Figure size 1000x600 with 1 Axes>"
      ]
     },
     "metadata": {},
     "output_type": "display_data"
    }
   ],
   "source": [
    "# 2.4.5\n",
    "import matplotlib.pyplot as plt\n",
    "\n",
    "alphas = np.logspace (-8, 1, num = 10, endpoint=True)\n",
    "plt.figure(figsize=(10, 6))\n",
    "plt.plot(alphas, accuracies, marker='o', linestyle='-')\n",
    "plt.xscale('log') \n",
    "plt.xlabel('Alpha (log scale)')\n",
    "plt.ylabel('Accuracy')\n",
    "plt.title('Accuracy vs Alpha')\n",
    "plt.grid(True)\n",
    "plt.show()"
   ]
  },
  {
   "cell_type": "markdown",
   "id": "c9814482-e656-43eb-8687-2273643bf5ae",
   "metadata": {},
   "source": [
    "### 3. Extra credit"
   ]
  },
  {
   "cell_type": "markdown",
   "id": "6917d2a4-cf3c-48b0-84dd-a4613ce4c64d",
   "metadata": {},
   "source": [
    "1. <br>\n",
    "We have NPV as 93.2%. By plugging and checking, NPV = TN/(TN+FN), TN = 4953, and FN = 360. Then by column and row, TP = 77, and FP = 0. These four are the predicted values. Actual positives are 77  + 360 = 437, and acutal negatives is 4953."
   ]
  },
  {
   "cell_type": "markdown",
   "id": "cda4888e-26ec-4173-8a16-c21530880202",
   "metadata": {},
   "source": [
    "2. <br>\n",
    "The CM has actual values in rows."
   ]
  },
  {
   "cell_type": "markdown",
   "id": "675bbee6-19a4-46b1-a2d9-bbbbee191f21",
   "metadata": {},
   "source": [
    "3. <br>\n",
    "CM has positive values displayed first."
   ]
  },
  {
   "cell_type": "markdown",
   "id": "caed1250-0315-4a4f-abb7-63e5155d21e9",
   "metadata": {},
   "source": [
    "4. <br>\n",
    "FP = 0  ,  FN = 360"
   ]
  },
  {
   "cell_type": "code",
   "execution_count": 30,
   "id": "e341e828-7512-44f1-a75c-3474a16697c5",
   "metadata": {},
   "outputs": [
    {
     "name": "stdout",
     "output_type": "stream",
     "text": [
      "[[4953, 0], [360, 77]]\n"
     ]
    }
   ],
   "source": [
    "# 5.\n",
    "TN = 4953\n",
    "FN = 360\n",
    "TP = 77\n",
    "FP = 0\n",
    "cm = [[TN, FP], [FN, TP]]\n",
    "print(cm)"
   ]
  },
  {
   "cell_type": "markdown",
   "id": "28a1de45-b74f-4bdc-bd72-e44ce9d6b712",
   "metadata": {},
   "source": [
    "6. <br>\n",
    "NPV stands for Negative Predictive Value, and Se stands for Sensitivity. <br>\n",
    "negative predictive value = (TN/(TN + FN)) * 100 <br>\n",
    "this indicates the probability that a negative test result is correct. in this case 93.2% means that among all individuals who tested negative, 93.2% of them are true negative for the condition. <br>\n",
    "SE = (TP/(TP + FN)) * 100 <br>\n",
    "sensitivity is also known as positive rate or recall. It indicates the proportion of actual positives that are correctly identified by the test. 17.6$ se means that among all crimes that acutally involved firearms, only 17.6% of them are correctly identified as involving firearms by the Washington State Criminal codes."
   ]
  },
  {
   "cell_type": "code",
   "execution_count": 31,
   "id": "7f6c065f-a94c-4284-a25a-6df023a13cc1",
   "metadata": {},
   "outputs": [
    {
     "name": "stdout",
     "output_type": "stream",
     "text": [
      "Precision: 1.0\n",
      "Recall: 0.17620137299771166\n",
      "F-score: 0.29961089494163423\n"
     ]
    }
   ],
   "source": [
    "# 7.\n",
    "precision = TP / (TP + FP)\n",
    "recall = TP / (TP + FN)\n",
    "f_score = (2 * precision * recall) / (precision + recall)\n",
    "\n",
    "print(\"Precision:\", precision)\n",
    "print(\"Recall:\", recall)\n",
    "print(\"F-score:\", f_score)"
   ]
  }
 ],
 "metadata": {
  "kernelspec": {
   "display_name": "Python 3 (ipykernel)",
   "language": "python",
   "name": "python3"
  },
  "language_info": {
   "codemirror_mode": {
    "name": "ipython",
    "version": 3
   },
   "file_extension": ".py",
   "mimetype": "text/x-python",
   "name": "python",
   "nbconvert_exporter": "python",
   "pygments_lexer": "ipython3",
   "version": "3.9.5"
  }
 },
 "nbformat": 4,
 "nbformat_minor": 5
}
