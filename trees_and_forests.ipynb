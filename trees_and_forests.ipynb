{
 "cells": [
  {
   "cell_type": "markdown",
   "id": "4f7031d7-f1c4-4222-81bd-60d1b32cdae3",
   "metadata": {},
   "source": [
    "# Trees and Forests\n",
    "## 1/25/2024\n",
    "### Kaylee Cho"
   ]
  },
  {
   "cell_type": "code",
   "execution_count": 1055,
   "id": "f18297f5-5c23-4f96-a739-11fb9c220e1f",
   "metadata": {},
   "outputs": [],
   "source": [
    "import pandas as pd\n",
    "import numpy as np\n",
    "import matplotlib.pyplot as plt\n",
    "from sklearn.model_selection import train_test_split\n",
    "from sklearn.metrics import accuracy_score"
   ]
  },
  {
   "cell_type": "markdown",
   "id": "9a17cd0f-7c10-42a1-aa1d-b0421e1e4911",
   "metadata": {},
   "source": [
    "### 1. Which firm goes out of business?"
   ]
  },
  {
   "cell_type": "markdown",
   "id": "1de6dd62-6ef2-4141-9fcb-a3de34d52343",
   "metadata": {},
   "source": [
    "**1.1 Prepare**"
   ]
  },
  {
   "cell_type": "code",
   "execution_count": 1056,
   "id": "1fd7b3d1-1ad6-4d4a-8be3-1bd4b4396cf7",
   "metadata": {},
   "outputs": [
    {
     "name": "stdout",
     "output_type": "stream",
     "text": [
      "(6819, 96)\n"
     ]
    },
    {
     "data": {
      "text/html": [
       "<div>\n",
       "<style scoped>\n",
       "    .dataframe tbody tr th:only-of-type {\n",
       "        vertical-align: middle;\n",
       "    }\n",
       "\n",
       "    .dataframe tbody tr th {\n",
       "        vertical-align: top;\n",
       "    }\n",
       "\n",
       "    .dataframe thead th {\n",
       "        text-align: right;\n",
       "    }\n",
       "</style>\n",
       "<table border=\"1\" class=\"dataframe\">\n",
       "  <thead>\n",
       "    <tr style=\"text-align: right;\">\n",
       "      <th></th>\n",
       "      <th>Bankrupt?</th>\n",
       "      <th>ROA(C) before interest and depreciation before interest</th>\n",
       "      <th>ROA(A) before interest and % after tax</th>\n",
       "      <th>ROA(B) before interest and depreciation after tax</th>\n",
       "      <th>Operating Gross Margin</th>\n",
       "      <th>Realized Sales Gross Margin</th>\n",
       "      <th>Operating Profit Rate</th>\n",
       "      <th>Pre-tax net Interest Rate</th>\n",
       "      <th>After-tax net Interest Rate</th>\n",
       "      <th>Non-industry income and expenditure/revenue</th>\n",
       "      <th>...</th>\n",
       "      <th>Net Income to Total Assets</th>\n",
       "      <th>Total assets to GNP price</th>\n",
       "      <th>No-credit Interval</th>\n",
       "      <th>Gross Profit to Sales</th>\n",
       "      <th>Net Income to Stockholder's Equity</th>\n",
       "      <th>Liability to Equity</th>\n",
       "      <th>Degree of Financial Leverage (DFL)</th>\n",
       "      <th>Interest Coverage Ratio (Interest expense to EBIT)</th>\n",
       "      <th>Net Income Flag</th>\n",
       "      <th>Equity to Liability</th>\n",
       "    </tr>\n",
       "  </thead>\n",
       "  <tbody>\n",
       "    <tr>\n",
       "      <th>0</th>\n",
       "      <td>1</td>\n",
       "      <td>0.370594</td>\n",
       "      <td>0.424389</td>\n",
       "      <td>0.405750</td>\n",
       "      <td>0.601457</td>\n",
       "      <td>0.601457</td>\n",
       "      <td>0.998969</td>\n",
       "      <td>0.796887</td>\n",
       "      <td>0.808809</td>\n",
       "      <td>0.302646</td>\n",
       "      <td>...</td>\n",
       "      <td>0.716845</td>\n",
       "      <td>0.009219</td>\n",
       "      <td>0.622879</td>\n",
       "      <td>0.601453</td>\n",
       "      <td>0.827890</td>\n",
       "      <td>0.290202</td>\n",
       "      <td>0.026601</td>\n",
       "      <td>0.564050</td>\n",
       "      <td>1</td>\n",
       "      <td>0.016469</td>\n",
       "    </tr>\n",
       "    <tr>\n",
       "      <th>1</th>\n",
       "      <td>1</td>\n",
       "      <td>0.464291</td>\n",
       "      <td>0.538214</td>\n",
       "      <td>0.516730</td>\n",
       "      <td>0.610235</td>\n",
       "      <td>0.610235</td>\n",
       "      <td>0.998946</td>\n",
       "      <td>0.797380</td>\n",
       "      <td>0.809301</td>\n",
       "      <td>0.303556</td>\n",
       "      <td>...</td>\n",
       "      <td>0.795297</td>\n",
       "      <td>0.008323</td>\n",
       "      <td>0.623652</td>\n",
       "      <td>0.610237</td>\n",
       "      <td>0.839969</td>\n",
       "      <td>0.283846</td>\n",
       "      <td>0.264577</td>\n",
       "      <td>0.570175</td>\n",
       "      <td>1</td>\n",
       "      <td>0.020794</td>\n",
       "    </tr>\n",
       "    <tr>\n",
       "      <th>2</th>\n",
       "      <td>1</td>\n",
       "      <td>0.426071</td>\n",
       "      <td>0.499019</td>\n",
       "      <td>0.472295</td>\n",
       "      <td>0.601450</td>\n",
       "      <td>0.601364</td>\n",
       "      <td>0.998857</td>\n",
       "      <td>0.796403</td>\n",
       "      <td>0.808388</td>\n",
       "      <td>0.302035</td>\n",
       "      <td>...</td>\n",
       "      <td>0.774670</td>\n",
       "      <td>0.040003</td>\n",
       "      <td>0.623841</td>\n",
       "      <td>0.601449</td>\n",
       "      <td>0.836774</td>\n",
       "      <td>0.290189</td>\n",
       "      <td>0.026555</td>\n",
       "      <td>0.563706</td>\n",
       "      <td>1</td>\n",
       "      <td>0.016474</td>\n",
       "    </tr>\n",
       "    <tr>\n",
       "      <th>3</th>\n",
       "      <td>1</td>\n",
       "      <td>0.399844</td>\n",
       "      <td>0.451265</td>\n",
       "      <td>0.457733</td>\n",
       "      <td>0.583541</td>\n",
       "      <td>0.583541</td>\n",
       "      <td>0.998700</td>\n",
       "      <td>0.796967</td>\n",
       "      <td>0.808966</td>\n",
       "      <td>0.303350</td>\n",
       "      <td>...</td>\n",
       "      <td>0.739555</td>\n",
       "      <td>0.003252</td>\n",
       "      <td>0.622929</td>\n",
       "      <td>0.583538</td>\n",
       "      <td>0.834697</td>\n",
       "      <td>0.281721</td>\n",
       "      <td>0.026697</td>\n",
       "      <td>0.564663</td>\n",
       "      <td>1</td>\n",
       "      <td>0.023982</td>\n",
       "    </tr>\n",
       "    <tr>\n",
       "      <th>4</th>\n",
       "      <td>1</td>\n",
       "      <td>0.465022</td>\n",
       "      <td>0.538432</td>\n",
       "      <td>0.522298</td>\n",
       "      <td>0.598783</td>\n",
       "      <td>0.598783</td>\n",
       "      <td>0.998973</td>\n",
       "      <td>0.797366</td>\n",
       "      <td>0.809304</td>\n",
       "      <td>0.303475</td>\n",
       "      <td>...</td>\n",
       "      <td>0.795016</td>\n",
       "      <td>0.003878</td>\n",
       "      <td>0.623521</td>\n",
       "      <td>0.598782</td>\n",
       "      <td>0.839973</td>\n",
       "      <td>0.278514</td>\n",
       "      <td>0.024752</td>\n",
       "      <td>0.575617</td>\n",
       "      <td>1</td>\n",
       "      <td>0.035490</td>\n",
       "    </tr>\n",
       "  </tbody>\n",
       "</table>\n",
       "<p>5 rows × 96 columns</p>\n",
       "</div>"
      ],
      "text/plain": [
       "   Bankrupt?   ROA(C) before interest and depreciation before interest  \\\n",
       "0          1                                           0.370594          \n",
       "1          1                                           0.464291          \n",
       "2          1                                           0.426071          \n",
       "3          1                                           0.399844          \n",
       "4          1                                           0.465022          \n",
       "\n",
       "    ROA(A) before interest and % after tax  \\\n",
       "0                                 0.424389   \n",
       "1                                 0.538214   \n",
       "2                                 0.499019   \n",
       "3                                 0.451265   \n",
       "4                                 0.538432   \n",
       "\n",
       "    ROA(B) before interest and depreciation after tax  \\\n",
       "0                                           0.405750    \n",
       "1                                           0.516730    \n",
       "2                                           0.472295    \n",
       "3                                           0.457733    \n",
       "4                                           0.522298    \n",
       "\n",
       "    Operating Gross Margin   Realized Sales Gross Margin  \\\n",
       "0                 0.601457                      0.601457   \n",
       "1                 0.610235                      0.610235   \n",
       "2                 0.601450                      0.601364   \n",
       "3                 0.583541                      0.583541   \n",
       "4                 0.598783                      0.598783   \n",
       "\n",
       "    Operating Profit Rate   Pre-tax net Interest Rate  \\\n",
       "0                0.998969                    0.796887   \n",
       "1                0.998946                    0.797380   \n",
       "2                0.998857                    0.796403   \n",
       "3                0.998700                    0.796967   \n",
       "4                0.998973                    0.797366   \n",
       "\n",
       "    After-tax net Interest Rate   Non-industry income and expenditure/revenue  \\\n",
       "0                      0.808809                                      0.302646   \n",
       "1                      0.809301                                      0.303556   \n",
       "2                      0.808388                                      0.302035   \n",
       "3                      0.808966                                      0.303350   \n",
       "4                      0.809304                                      0.303475   \n",
       "\n",
       "   ...   Net Income to Total Assets   Total assets to GNP price  \\\n",
       "0  ...                     0.716845                    0.009219   \n",
       "1  ...                     0.795297                    0.008323   \n",
       "2  ...                     0.774670                    0.040003   \n",
       "3  ...                     0.739555                    0.003252   \n",
       "4  ...                     0.795016                    0.003878   \n",
       "\n",
       "    No-credit Interval   Gross Profit to Sales  \\\n",
       "0             0.622879                0.601453   \n",
       "1             0.623652                0.610237   \n",
       "2             0.623841                0.601449   \n",
       "3             0.622929                0.583538   \n",
       "4             0.623521                0.598782   \n",
       "\n",
       "    Net Income to Stockholder's Equity   Liability to Equity  \\\n",
       "0                             0.827890              0.290202   \n",
       "1                             0.839969              0.283846   \n",
       "2                             0.836774              0.290189   \n",
       "3                             0.834697              0.281721   \n",
       "4                             0.839973              0.278514   \n",
       "\n",
       "    Degree of Financial Leverage (DFL)  \\\n",
       "0                             0.026601   \n",
       "1                             0.264577   \n",
       "2                             0.026555   \n",
       "3                             0.026697   \n",
       "4                             0.024752   \n",
       "\n",
       "    Interest Coverage Ratio (Interest expense to EBIT)   Net Income Flag  \\\n",
       "0                                           0.564050                   1   \n",
       "1                                           0.570175                   1   \n",
       "2                                           0.563706                   1   \n",
       "3                                           0.564663                   1   \n",
       "4                                           0.575617                   1   \n",
       "\n",
       "    Equity to Liability  \n",
       "0              0.016469  \n",
       "1              0.020794  \n",
       "2              0.016474  \n",
       "3              0.023982  \n",
       "4              0.035490  \n",
       "\n",
       "[5 rows x 96 columns]"
      ]
     },
     "execution_count": 1056,
     "metadata": {},
     "output_type": "execute_result"
    }
   ],
   "source": [
    "# 1.1.1 Prepare and load data\n",
    "bank = pd.read_csv(r\"C:\\Users\\pc\\OneDrive\\바탕 화면\\INFO 371\\jupyter\\data\\tw-bankruptcy.csv\", sep=\",\")\n",
    "print(bank.shape)\n",
    "bank.head(5)"
   ]
  },
  {
   "cell_type": "code",
   "execution_count": 1057,
   "id": "e7f22eb1-1109-4255-9cf2-d5f903fff3f1",
   "metadata": {},
   "outputs": [
    {
     "data": {
      "text/plain": [
       "Bankrupt?                                                     int64\n",
       " ROA(C) before interest and depreciation before interest    float64\n",
       " ROA(A) before interest and % after tax                     float64\n",
       " ROA(B) before interest and depreciation after tax          float64\n",
       " Operating Gross Margin                                     float64\n",
       "                                                             ...   \n",
       " Liability to Equity                                        float64\n",
       " Degree of Financial Leverage (DFL)                         float64\n",
       " Interest Coverage Ratio (Interest expense to EBIT)         float64\n",
       " Net Income Flag                                              int64\n",
       " Equity to Liability                                        float64\n",
       "Length: 96, dtype: object"
      ]
     },
     "execution_count": 1057,
     "metadata": {},
     "output_type": "execute_result"
    }
   ],
   "source": [
    "# 1.1.2\n",
    "bank.dtypes\n",
    "# data are mostly float and there are a few int!\n",
    "# there are no non-numeric variables"
   ]
  },
  {
   "cell_type": "code",
   "execution_count": 1058,
   "id": "bcd30821-0126-4aaa-badd-def8695c43be",
   "metadata": {},
   "outputs": [
    {
     "data": {
      "text/plain": [
       "Bankrupt?                                                   0\n",
       " ROA(C) before interest and depreciation before interest    0\n",
       " ROA(A) before interest and % after tax                     0\n",
       " ROA(B) before interest and depreciation after tax          0\n",
       " Operating Gross Margin                                     0\n",
       "                                                           ..\n",
       " Liability to Equity                                        0\n",
       " Degree of Financial Leverage (DFL)                         0\n",
       " Interest Coverage Ratio (Interest expense to EBIT)         0\n",
       " Net Income Flag                                            0\n",
       " Equity to Liability                                        0\n",
       "Length: 96, dtype: int64"
      ]
     },
     "execution_count": 1058,
     "metadata": {},
     "output_type": "execute_result"
    }
   ],
   "source": [
    "# 1.1.3\n",
    "bank.isna().sum()\n",
    "# no missings exist"
   ]
  },
  {
   "cell_type": "code",
   "execution_count": 1059,
   "id": "73a3b395-e34c-4666-ac59-c7ad15c1a5ed",
   "metadata": {},
   "outputs": [],
   "source": [
    "# 1.1.4\n",
    "# create a design matrix X and outcome vector y\n",
    "columns_to_exclude = [\"Bankrupt?\"]\n",
    "# Create the design matrix excluding specified columns\n",
    "X = bank.drop(columns=columns_to_exclude).values\n",
    "y = bank[\"Bankrupt?\"].values"
   ]
  },
  {
   "cell_type": "code",
   "execution_count": 1060,
   "id": "99038a33-1b5e-4ef1-a1f8-8b508899b032",
   "metadata": {},
   "outputs": [
    {
     "name": "stdout",
     "output_type": "stream",
     "text": [
      "shape of original dataset : (6819, 96)\n",
      "shape of input - training set (5455, 95)\n",
      "shape of input - testing set (1364, 95)\n",
      "shape of output - training set (5455,)\n",
      "shape of output - testing set (1364,)\n"
     ]
    }
   ],
   "source": [
    "# 1.1.5\n",
    "# split your data into training and validation chunks\n",
    "Xt, Xv, yt, yv = train_test_split(X, y, test_size=0.2)\n",
    "print(\"shape of original dataset :\", bank.shape)\n",
    "print(\"shape of input - training set\", Xt.shape)\n",
    "print(\"shape of input - testing set\", Xv.shape)\n",
    "print(\"shape of output - training set\", yt.shape)\n",
    "print(\"shape of output - testing set\", yv.shape)"
   ]
  },
  {
   "cell_type": "code",
   "execution_count": 1061,
   "id": "b601d18e-7760-4f8e-b533-2691a17e0830",
   "metadata": {},
   "outputs": [
    {
     "name": "stdout",
     "output_type": "stream",
     "text": [
      "Accuracy of the Naive Estimator: 0.9728739002932552\n"
     ]
    }
   ],
   "source": [
    "# 1.1.6\n",
    "# Create a Naive Model prediction (predict all as non-bankrupt - majority category)\n",
    "yv_hat = [0] * len(yv)\n",
    "# let's calculate accuracy\n",
    "count = 0\n",
    "for i in range(len(yv)):\n",
    "    if yv[i] == yv_hat[i]:\n",
    "        count += 1\n",
    "naive_accuracy = count/len(yv)\n",
    "print(\"Accuracy of the Naive Estimator:\", naive_accuracy)"
   ]
  },
  {
   "cell_type": "markdown",
   "id": "1ef721c5-7d84-4ebe-9f1d-571ab90ecb4e",
   "metadata": {},
   "source": [
    "**1.2 Logistic regression**"
   ]
  },
  {
   "cell_type": "code",
   "execution_count": 1062,
   "id": "3c796827-e248-4aab-b7f4-470ae2d0994e",
   "metadata": {},
   "outputs": [
    {
     "name": "stdout",
     "output_type": "stream",
     "text": [
      "Dimensionality of the feature space: 95\n"
     ]
    }
   ],
   "source": [
    "# 1.2.1\n",
    "from sklearn.linear_model import LogisticRegression\n",
    "\n",
    "# Assuming X is your feature matrix and y is your target variable\n",
    "model = LogisticRegression()\n",
    "model.fit(X, y)\n",
    "\n",
    "# Dimensionality of the feature space\n",
    "dimensionality = len(model.coef_[0])\n",
    "print(\"Dimensionality of the feature space:\", dimensionality)"
   ]
  },
  {
   "cell_type": "markdown",
   "id": "2be5e538-9e84-4793-a444-50da0e15d9a0",
   "metadata": {},
   "source": [
    "**1.2.2** <br>\n",
    "How does the logistic regression’s decision boundary look in the feature space? <br>\n",
    "Since the dimensionality equals 95, which means that the decision boundary would be in a 95 dimensional space hyperplane we can't really imagine or plot it out for further interpretation. We might be able to plot it with very complex function, but interpreting would be almost meaningless in that dimensionality. \n",
    "<br> <br> Therefore, It would look like complex region distributed in a 95 dimensional hyperplane which is hard to imagine."
   ]
  },
  {
   "cell_type": "markdown",
   "id": "308b9692-635b-45fa-9b55-29914a4b8221",
   "metadata": {},
   "source": [
    "**1.2.3** <br>\n",
    "What do you think given the values of the features, how much uncertainty is there if the firm\n",
    "goes to bankruptcy or not? <br>\n",
    "From the prediction above, we know that about 97% of the validation data tells us that the firm will not go bankrupt. Since the accuracy of the naive estimator is about 97% and high, we can say that there is little uncertainty in predicting if the firm goes bankrupt or not."
   ]
  },
  {
   "cell_type": "code",
   "execution_count": 1063,
   "id": "ef20adc6-a4ed-4867-8179-139858825bfa",
   "metadata": {},
   "outputs": [
    {
     "name": "stdout",
     "output_type": "stream",
     "text": [
      "accuracy on validation data: 0.966275659824047\n"
     ]
    }
   ],
   "source": [
    "# 1.2.4\n",
    "from sklearn.linear_model import LogisticRegression\n",
    "#fit the data\n",
    "m_log = LogisticRegression()\n",
    "_ = m_log.fit(Xt, yt)\n",
    "# calculate accuracy\n",
    "accuracy_validation = m_log.score(Xv, yv)\n",
    "print(\"accuracy on validation data:\", accuracy_validation)"
   ]
  },
  {
   "cell_type": "code",
   "execution_count": 1064,
   "id": "aaf1e0e4-e07c-4ff4-ba53-f0c889b60613",
   "metadata": {},
   "outputs": [
    {
     "data": {
      "text/plain": [
       "-0.006598240469208205"
      ]
     },
     "execution_count": 1064,
     "metadata": {},
     "output_type": "execute_result"
    }
   ],
   "source": [
    "# 1.2.5\n",
    "# naive estimator performs better with slightly higher accuracy.\n",
    "accuracy_validation - naive_accuracy"
   ]
  },
  {
   "cell_type": "markdown",
   "id": "227de51c-d57d-4eed-9f45-e5c7f1f7e356",
   "metadata": {},
   "source": [
    "**1.3 Decision trees**"
   ]
  },
  {
   "cell_type": "markdown",
   "id": "6876b09f-daf8-4bee-bf4d-76ff4edf2839",
   "metadata": {},
   "source": [
    "**1.3.1**\n",
    "In my opnion, since desicion trees start from the root node all the way to leaf node reducing dimensions, decision boundary  will fill up the hyperdimension feature space with box like features dividing it into multiple rectangular regions."
   ]
  },
  {
   "cell_type": "markdown",
   "id": "2d708c61-16dd-4cd3-b808-1b7ee69eeebb",
   "metadata": {},
   "source": [
    "**1.3.2**\n",
    "maximum depth parameter is what determines the maximum depth of the node that connects the root node to leaf nodes. The more higher the max depth is, the more complex the model is. Therefore, large max_depth can cause overfitting and small max_depth can cause underfitting."
   ]
  },
  {
   "cell_type": "code",
   "execution_count": 1065,
   "id": "87137eff-000a-4f6a-84c1-f678e4c5ebea",
   "metadata": {},
   "outputs": [
    {
     "name": "stdout",
     "output_type": "stream",
     "text": [
      "max_depth: 1 | accuracy training: 0.966 | accuracy validation: 0.973\n",
      "max_depth: 3 | accuracy training: 0.971 | accuracy validation: 0.972\n",
      "max_depth: 5 | accuracy training: 0.979 | accuracy validation: 0.968\n",
      "max_depth: 7 | accuracy training: 0.989 | accuracy validation: 0.964\n",
      "max_depth: 9 | accuracy training: 0.993 | accuracy validation: 0.963\n",
      "max_depth: 11 | accuracy training: 0.996 | accuracy validation: 0.961\n",
      "max_depth: 13 | accuracy training: 0.998 | accuracy validation: 0.961\n",
      "max_depth: 15 | accuracy training: 1.0 | accuracy validation: 0.956\n",
      "max_depth: 17 | accuracy training: 1.0 | accuracy validation: 0.956\n",
      "max_depth: 19 | accuracy training: 1.0 | accuracy validation: 0.958\n"
     ]
    }
   ],
   "source": [
    "# 1.3.3\n",
    "from sklearn.tree import DecisionTreeClassifier\n",
    "\n",
    "max_depths = range(1, 20, 2)\n",
    "accuracy_train_list = []\n",
    "accuracy_val_list = []\n",
    "for i in max_depths:\n",
    "    # create and fit the DecisionTreeClassifier model\n",
    "    m = DecisionTreeClassifier(max_depth=i)\n",
    "    _ = m.fit(Xt, yt)\n",
    "    # predict y value on training dataset and find accuracy\n",
    "    yt_hat = m.predict(Xt)\n",
    "    accuracy_training = accuracy_score(yt, yt_hat)\n",
    "    # predict y value on validation dataset and find accuracy \n",
    "    yv_hat = m.predict(Xv)\n",
    "    accuracy_val = accuracy_score(yv, yv_hat)\n",
    "    # print results\n",
    "    print(\"max_depth:\", i, \"| accuracy training:\", round(accuracy_training, 3), \\\n",
    "          \"| accuracy validation:\", round(accuracy_val, 3))\n",
    "    # append the accuracy for training and validation on list\n",
    "    accuracy_train_list.append(accuracy_training)\n",
    "    accuracy_val_list.append(accuracy_val)"
   ]
  },
  {
   "cell_type": "code",
   "execution_count": 1066,
   "id": "cae91e64-60d6-4c70-9a39-0ef3f6cf5185",
   "metadata": {},
   "outputs": [
    {
     "data": {
      "image/png": "[encoded data removed]",
      "text/plain": [
       "<Figure size 1000x600 with 1 Axes>"
      ]
     },
     "metadata": {},
     "output_type": "display_data"
    }
   ],
   "source": [
    "# 1.3.4\n",
    "plt.figure(figsize=(10, 6))\n",
    "plt.plot(max_depths, accuracy_train_list, label='Training Accuracy', marker='o')\n",
    "plt.plot(max_depths, accuracy_val_list, label='Validation Accuracy', marker='o')\n",
    "\n",
    "plt.xlabel('Maximum Depth')\n",
    "plt.ylabel('Accuracy')\n",
    "plt.title('Accuracy on training and validation data by Maximum Depth')\n",
    "plt.legend()\n",
    "plt.grid(True)\n",
    "plt.show()"
   ]
  },
  {
   "cell_type": "markdown",
   "id": "ebfdffd0-02b6-4c4c-a392-a51c765fb1de",
   "metadata": {},
   "source": [
    "**1.3.5**\n",
    "The best validation accuracy is when the differnece between training accuracy and validation accuracy is the smallest and when the accuracy itself is at the highest. In this case, it would be when max_depth = 3."
   ]
  },
  {
   "cell_type": "markdown",
   "id": "c2d15187-9c1e-4551-a4a1-c5c5975fecf4",
   "metadata": {},
   "source": [
    "**1.3.6**\n",
    "The model starts to overfit after max_depth 3 since in region where max_depth is larger than 3 training accuracy increasing wheras validation accuracy starts to decrease. This means that the model is detecting noise on specific training dataset and overfitting. Therefore optimal depth will be max_depth where validation accuracy reaches the highest point which is max_depth = 3. Trees work better than logistic regression since it has higher accuracy rate."
   ]
  },
  {
   "cell_type": "markdown",
   "id": "cb5eedeb-f197-41fd-ba8a-f882eb9592bb",
   "metadata": {},
   "source": [
    "### 2. Skin Color"
   ]
  },
  {
   "cell_type": "code",
   "execution_count": 1067,
   "id": "f7dfc0f8-1e9d-4b10-a424-14c97a53c3d1",
   "metadata": {},
   "outputs": [
    {
     "name": "stdout",
     "output_type": "stream",
     "text": [
      "(245057, 4)\n"
     ]
    },
    {
     "data": {
      "text/html": [
       "<div>\n",
       "<style scoped>\n",
       "    .dataframe tbody tr th:only-of-type {\n",
       "        vertical-align: middle;\n",
       "    }\n",
       "\n",
       "    .dataframe tbody tr th {\n",
       "        vertical-align: top;\n",
       "    }\n",
       "\n",
       "    .dataframe thead th {\n",
       "        text-align: right;\n",
       "    }\n",
       "</style>\n",
       "<table border=\"1\" class=\"dataframe\">\n",
       "  <thead>\n",
       "    <tr style=\"text-align: right;\">\n",
       "      <th></th>\n",
       "      <th>B</th>\n",
       "      <th>G</th>\n",
       "      <th>R</th>\n",
       "      <th>Label</th>\n",
       "    </tr>\n",
       "  </thead>\n",
       "  <tbody>\n",
       "    <tr>\n",
       "      <th>0</th>\n",
       "      <td>74</td>\n",
       "      <td>85</td>\n",
       "      <td>123</td>\n",
       "      <td>1</td>\n",
       "    </tr>\n",
       "    <tr>\n",
       "      <th>1</th>\n",
       "      <td>73</td>\n",
       "      <td>84</td>\n",
       "      <td>122</td>\n",
       "      <td>1</td>\n",
       "    </tr>\n",
       "    <tr>\n",
       "      <th>2</th>\n",
       "      <td>72</td>\n",
       "      <td>83</td>\n",
       "      <td>121</td>\n",
       "      <td>1</td>\n",
       "    </tr>\n",
       "    <tr>\n",
       "      <th>3</th>\n",
       "      <td>70</td>\n",
       "      <td>81</td>\n",
       "      <td>119</td>\n",
       "      <td>1</td>\n",
       "    </tr>\n",
       "    <tr>\n",
       "      <th>4</th>\n",
       "      <td>70</td>\n",
       "      <td>81</td>\n",
       "      <td>119</td>\n",
       "      <td>1</td>\n",
       "    </tr>\n",
       "  </tbody>\n",
       "</table>\n",
       "</div>"
      ],
      "text/plain": [
       "    B   G    R  Label\n",
       "0  74  85  123      1\n",
       "1  73  84  122      1\n",
       "2  72  83  121      1\n",
       "3  70  81  119      1\n",
       "4  70  81  119      1"
      ]
     },
     "execution_count": 1067,
     "metadata": {},
     "output_type": "execute_result"
    }
   ],
   "source": [
    "# 2.1.1\n",
    "# load dataset\n",
    "skin = pd.read_csv(r\"C:\\Users\\pc\\OneDrive\\바탕 화면\\INFO 371\\jupyter\\data\\skin-nonskin.csv\", sep = \"\\t\")\n",
    "print(skin.shape)\n",
    "skin.head(5)\n",
    "# R, G, B => colors\n",
    "# label for skin = 1, non-skin tone = 2"
   ]
  },
  {
   "cell_type": "code",
   "execution_count": 1068,
   "id": "950d6138-67ec-4971-bd48-95245c7d3ff2",
   "metadata": {},
   "outputs": [
    {
     "data": {
      "text/plain": [
       "B        0\n",
       "G        0\n",
       "R        0\n",
       "Label    0\n",
       "dtype: int64"
      ]
     },
     "execution_count": 1068,
     "metadata": {},
     "output_type": "execute_result"
    }
   ],
   "source": [
    "# 2.1.1\n",
    "skin.isna().sum()\n",
    "# no missings exist"
   ]
  },
  {
   "cell_type": "code",
   "execution_count": 1069,
   "id": "5fda54cd-e4c3-4915-9721-c7e8270c711b",
   "metadata": {},
   "outputs": [
    {
     "data": {
      "text/plain": [
       "B        int64\n",
       "G        int64\n",
       "R        int64\n",
       "Label    int64\n",
       "dtype: object"
      ]
     },
     "execution_count": 1069,
     "metadata": {},
     "output_type": "execute_result"
    }
   ],
   "source": [
    "# 2.1.1\n",
    "skin.dtypes\n",
    "# all int type data"
   ]
  },
  {
   "cell_type": "markdown",
   "id": "701bb65e-0a3a-4e01-b211-63750dd2e146",
   "metadata": {},
   "source": [
    "**2.1.2**<br>\n",
    "(a) dimensionality of the feature space is 3 dimensional space when excluding Label output column.<br>\n",
    "(b) It would be a 3d dimension where feasibility depends on values of all three color input variable B, G, and R. <br>"
   ]
  },
  {
   "cell_type": "markdown",
   "id": "7709c3c8-767e-49af-a57d-1e72d3da4ba3",
   "metadata": {},
   "source": [
    "**2.1.2 - (C)** <br>\n",
    "I am not sure what exact method they used to determine Label variable in the dataset. However, thinking of a situation where observation is made by human or computer to detect the color of a skin, there could be uncertainty such as the lighting near where the observation was held could have effected the results. For instance, let's say a person observed this in a very bright/dark place where there could be possible errors in the Label column. Or if computer detected it there could also be computational error too."
   ]
  },
  {
   "cell_type": "code",
   "execution_count": 1070,
   "id": "92ea034c-2a4a-47f4-b3d1-2cd77b8afa73",
   "metadata": {},
   "outputs": [],
   "source": [
    "# 2.1.3\n",
    "X = skin.drop(columns=\"Label\").values\n",
    "y = skin[\"Label\"].values"
   ]
  },
  {
   "cell_type": "code",
   "execution_count": 1071,
   "id": "7d138493-3b05-4e8f-b4f1-1c639bf986b1",
   "metadata": {},
   "outputs": [
    {
     "name": "stdout",
     "output_type": "stream",
     "text": [
      "shape of original dataset : (245057, 4)\n",
      "shape of input - training set (196045, 3)\n",
      "shape of input - testing set (49012, 3)\n",
      "shape of output - training set (196045,)\n",
      "shape of output - testing set (49012,)\n"
     ]
    }
   ],
   "source": [
    "# 2.1.4\n",
    "Xt, Xv, yt, yv = train_test_split(X, y, test_size=0.2)\n",
    "print(\"shape of original dataset :\", skin.shape)\n",
    "print(\"shape of input - training set\", Xt.shape)\n",
    "print(\"shape of input - testing set\", Xv.shape)\n",
    "print(\"shape of output - training set\", yt.shape)\n",
    "print(\"shape of output - testing set\", yv.shape)"
   ]
  },
  {
   "cell_type": "code",
   "execution_count": 1072,
   "id": "79569d6e-c2a0-4d3b-b62d-948852d8a4ba",
   "metadata": {},
   "outputs": [
    {
     "name": "stdout",
     "output_type": "stream",
     "text": [
      "Accuracy of the Naive Estimator: 0.211397208846813\n"
     ]
    }
   ],
   "source": [
    "# 2.1.5\n",
    "# accuracy of the naive estimator that predicts every case to the majority category on valudation data\n",
    "naive_yv_hat = [1] * len(yv)\n",
    "# let's calculate accuracy\n",
    "count = 0\n",
    "for i in range(len(yv)):\n",
    "    if yv[i] == naive_yv_hat[i]:\n",
    "        count += 1\n",
    "acc_naive = count/len(yv)\n",
    "print(\"Accuracy of the Naive Estimator:\", acc_naive)\n",
    "# accuracy is indeed low! indicates that 1 in yv is about 20% of the values in yv"
   ]
  },
  {
   "cell_type": "markdown",
   "id": "97cc546e-4556-4849-8e22-596e4fd01b58",
   "metadata": {},
   "source": [
    "**2.2 Logistic Regression**"
   ]
  },
  {
   "cell_type": "code",
   "execution_count": 1073,
   "id": "84c04711-1158-4d1e-919d-99919eed764a",
   "metadata": {},
   "outputs": [
    {
     "name": "stdout",
     "output_type": "stream",
     "text": [
      "Accuracy of the logistic regression: 0.916061372725047\n"
     ]
    }
   ],
   "source": [
    "# 2.2.1\n",
    "m_log = LogisticRegression()\n",
    "_ = m_log.fit(X, y)\n",
    "# compute accuracy on validation data\n",
    "accuracy_validation = m_log.score(Xv, yv)\n",
    "print(\"Accuracy of the logistic regression:\", accuracy_validation)"
   ]
  },
  {
   "cell_type": "markdown",
   "id": "aa4376d6-6e8e-43d9-bb7e-dd76eefa4a29",
   "metadata": {},
   "source": [
    "**2.2.2** <br>\n",
    "log regression model performs way more better than the naive model. Accuracy on validation data is much higher in logistic regression. It's about 70% more accurate/higher."
   ]
  },
  {
   "cell_type": "markdown",
   "id": "2d02dd4d-0350-4805-9913-0a77fcc93051",
   "metadata": {},
   "source": [
    "**2.2.3** <br>\n",
    "Q. How will the decision boundary look like in this 3d feature space? <br>\n",
    "Since logistic regression model is fitting on 3 dimensional feature space, it will create decision boundaries in 3D space and we can imagine retengular shaped \"box\" like features divinding the space into multiple parts."
   ]
  },
  {
   "cell_type": "markdown",
   "id": "a1c68062-d955-4e7f-bd5d-b628cce11447",
   "metadata": {},
   "source": [
    "**2.3 Decision Trees: Maximum Depth**"
   ]
  },
  {
   "cell_type": "markdown",
   "id": "12757edf-d49e-4c59-8783-40e6aaadeb34",
   "metadata": {},
   "source": [
    "**2.3.1**\n",
    "The feature space for this is 3 containing R, G, and B. Since there are only three inputs the tree will look very simple with min_sample_split of two (from root node to lead node, there is only two pointers). I will attach a drawing too! The decision boundary will divide the feature space into two large sections."
   ]
  },
  {
   "cell_type": "code",
   "execution_count": 1074,
   "id": "85129842-5e2a-4948-8ab0-eaed3199b4c1",
   "metadata": {},
   "outputs": [
    {
     "name": "stdout",
     "output_type": "stream",
     "text": [
      "max_depth: 1 | accuracy training: 0.883 | accuracy validation: 0.881\n",
      "max_depth: 6 | accuracy training: 0.99 | accuracy validation: 0.99\n",
      "max_depth: 11 | accuracy training: 0.999 | accuracy validation: 0.998\n",
      "max_depth: 16 | accuracy training: 1.0 | accuracy validation: 0.999\n",
      "max_depth: 21 | accuracy training: 1.0 | accuracy validation: 0.999\n",
      "max_depth: 26 | accuracy training: 1.0 | accuracy validation: 0.999\n",
      "max_depth: 31 | accuracy training: 1.0 | accuracy validation: 0.999\n",
      "max_depth: 36 | accuracy training: 1.0 | accuracy validation: 0.999\n"
     ]
    }
   ],
   "source": [
    "# 2.3.2\n",
    "from sklearn.tree import DecisionTreeClassifier\n",
    "\n",
    "max_depth = range(1, 40, 5)\n",
    "training_accuracy = []\n",
    "validation_accuracy = []\n",
    "for i in max_depth:\n",
    "    m = DecisionTreeClassifier(max_depth=i)\n",
    "    _ = m.fit(Xt, yt)\n",
    "    \n",
    "    yt_hat = m.predict(Xt)\n",
    "    train_accuracy = accuracy_score(yt, yt_hat)\n",
    "\n",
    "    yv_hat = m.predict(Xv)\n",
    "    val_accuracy = accuracy_score(yv, yv_hat)\n",
    "\n",
    "    print(\"max_depth:\", i, \"| accuracy training:\", round(train_accuracy, 3), \\\n",
    "          \"| accuracy validation:\", round(val_accuracy, 3))\n",
    "    \n",
    "    training_accuracy.append(train_accuracy)\n",
    "    validation_accuracy.append(val_accuracy)"
   ]
  },
  {
   "cell_type": "code",
   "execution_count": 1087,
   "id": "cd5d300a-1b52-4f3a-9d40-0bbc72030443",
   "metadata": {},
   "outputs": [
    {
     "data": {
      "image/png": "[encoded data removed]",
      "text/plain": [
       "<Figure size 1000x600 with 1 Axes>"
      ]
     },
     "metadata": {},
     "output_type": "display_data"
    }
   ],
   "source": [
    "# 2.3.3\n",
    "plt.figure(figsize=(10, 6))\n",
    "training_accuracy = np.array(training_accuracy)\n",
    "validation_accuracy = np.array(validation_accuracy)\n",
    "# reverse order bc we did log (1 - accuracy)\n",
    "plt.plot(max_depth, np.log(1- training_accuracy), label='validation Accuracy', marker='o')\n",
    "plt.plot(max_depth, np.log(1- validation_accuracy), label='training Accuracy', marker='o')\n",
    "plt.xlabel('Maximum Depth')\n",
    "plt.ylabel('accuracy')\n",
    "plt.title('Training and Validation Accuracy by Maximum Depth')\n",
    "plt.legend()\n",
    "plt.grid(True)\n",
    "plt.show()"
   ]
  },
  {
   "cell_type": "markdown",
   "id": "20be6923-52f8-42bc-a45d-eaf0b72e3669",
   "metadata": {},
   "source": [
    "**2.3.4**\n",
    "The best validation accuracy I get is around -7.2 according to np.log(1-validation_accuracy) calculation and that shows that validation accuracy is 1-e^(-7.2) which is close to 99% from accurate calculation above. Corresponding max depth is 31."
   ]
  },
  {
   "cell_type": "markdown",
   "id": "88e70131-84aa-4c95-a215-e1644c44f004",
   "metadata": {},
   "source": [
    "**2.3.5**\n",
    "The following model actually doesn't overfit since both training accuracy and validation accuracy tend to be constant around 27. Although training accuracy tends to be slightly higher than (postive accuracy rate) validation accuracy, they don't perform opposite slope trend as max_depth increases. The reason is because skin color data has less dimensions and is less noisy the decision tree seems to be able to capture relevant patterns without overfitting. The optimal max depth is 31 when both validation and training accuracy stays constant. We can say that the model is underfitting before max_depth = 10."
   ]
  },
  {
   "cell_type": "markdown",
   "id": "be0e12e4-3805-43f2-af10-81062d419034",
   "metadata": {},
   "source": [
    "**2.3.6**\n",
    "Bankruptcy data contained 95 variable features constructing 95 dimensional feature space. It has its peak at depth 5 or so since the data contains a lot of noise where the decision tree tends to capture when fitting the model which leads to overfitting easily. However, skin color data only contains 3 features constructing 3 dimensional feature space. This is much as less noise and a deeper decision tree might be able to capture relevant patterns without overfitting. This is why accuracy imporoves and stays constant from depth 30 or onward for both validation and training data."
   ]
  },
  {
   "cell_type": "markdown",
   "id": "5f6f6d09-d082-46c4-a3e4-8af3d2c1c4b0",
   "metadata": {},
   "source": [
    "### 3. Ensemble Estimator"
   ]
  },
  {
   "cell_type": "markdown",
   "id": "23156281-ac4d-4b6f-b94a-9d85241046ba",
   "metadata": {},
   "source": [
    "**3.1 Prepare**"
   ]
  },
  {
   "cell_type": "code",
   "execution_count": 1076,
   "id": "fb8e19f6-8a76-47fe-8fe3-619fa7044fc6",
   "metadata": {},
   "outputs": [],
   "source": [
    "# 3.1.1 Prepare and load data\n",
    "bank = pd.read_csv(r\"C:\\Users\\pc\\OneDrive\\바탕 화면\\INFO 371\\jupyter\\data\\tw-bankruptcy.csv\", sep=\",\")\n",
    "# create a design matrix X and outcome vector y\n",
    "columns_to_exclude = [\"Bankrupt?\"]\n",
    "# Create the design matrix excluding specified columns\n",
    "X = bank.drop(columns=columns_to_exclude).values\n",
    "y = bank[\"Bankrupt?\"].values\n",
    "# split your data into training and validation chunks\n",
    "Xt, Xv, yt, yv = train_test_split(X, y, test_size=0.2)"
   ]
  },
  {
   "cell_type": "markdown",
   "id": "87b7df98-457f-4ff0-8082-b3c4991bd8f8",
   "metadata": {},
   "source": [
    "**3.2 Baseline models**"
   ]
  },
  {
   "cell_type": "code",
   "execution_count": 1077,
   "id": "beb1687c-3527-4dc7-9974-c7612dbb70db",
   "metadata": {},
   "outputs": [
    {
     "name": "stdout",
     "output_type": "stream",
     "text": [
      "Accuracy of the logistic regression: 0.9633431085043989\n"
     ]
    }
   ],
   "source": [
    "# 3.2.1\n",
    "from sklearn.linear_model import LogisticRegression\n",
    "from sklearn.metrics import accuracy_score\n",
    "# fit the logistic regression model\n",
    "m_log = LogisticRegression()\n",
    "_ = m_log.fit(Xt, yt)\n",
    "# predict \n",
    "# compute accuracy on validation data\n",
    "accuracy_validation = m_log.score(Xv, yv)\n",
    "print(\"Accuracy of the logistic regression:\", accuracy_validation)"
   ]
  },
  {
   "cell_type": "code",
   "execution_count": 1078,
   "id": "528bfe79-4568-42c0-be7f-fbbd4e048bba",
   "metadata": {},
   "outputs": [
    {
     "name": "stdout",
     "output_type": "stream",
     "text": [
      "Accuracy of the KNeighborsClassifier: 0.9706744868035191\n"
     ]
    }
   ],
   "source": [
    "# 3.2.2\n",
    "from sklearn.neighbors import KNeighborsClassifier\n",
    "m = KNeighborsClassifier(10)\n",
    "_ = m.fit(Xt, yt)\n",
    "# predict yhat on validation data\n",
    "yhat_val = m.predict(Xv)\n",
    "# calculate accuracy on validation data\n",
    "accuracy_val = np.mean(yv == yhat_val)\n",
    "print(\"Accuracy of the KNeighborsClassifier:\", accuracy_val)"
   ]
  },
  {
   "cell_type": "code",
   "execution_count": 1079,
   "id": "4ef1f29a-a21d-4671-b1b1-50dd3fb6b8c4",
   "metadata": {},
   "outputs": [
    {
     "name": "stdout",
     "output_type": "stream",
     "text": [
      "Accuracy of the DecisionTreeClassifier: 0.969208211143695\n"
     ]
    }
   ],
   "source": [
    "# 3.2.3\n",
    "from sklearn.tree import DecisionTreeClassifier\n",
    "m = DecisionTreeClassifier(max_depth = 2)\n",
    "_ = m.fit(Xt, yt)\n",
    "accuracy = m.score(Xv, yv)\n",
    "print(\"Accuracy of the DecisionTreeClassifier:\", accuracy)"
   ]
  },
  {
   "cell_type": "markdown",
   "id": "84b32342-ebd1-46f8-b05b-3c96b6c0adfc",
   "metadata": {},
   "source": [
    "**3.3 Ensemble**"
   ]
  },
  {
   "cell_type": "markdown",
   "id": "09efbe16-a42e-46c6-9495-c33f2c142526",
   "metadata": {},
   "source": [
    "* should contain a fit method and score method...!\n",
    "* fit function should take training data Xt and yt, Should fit all three baseline models, and return a tutple that contains these three models\n",
    "* score function should take tuple of three models, validation matrix Xc and validation outcome yv as argument.\n",
    "* score function should return:\n",
    "1. for each model, predict outcome using Xv\n",
    "2. for each case in validation data, pick majority value of the three predicted values. This is ensemble prediction\n",
    "3. compute accuracy\n",
    "4. return the average accuracy over the validation data"
   ]
  },
  {
   "cell_type": "code",
   "execution_count": 1080,
   "id": "b044ec30-ae7e-4d60-86c0-3ad1abc312df",
   "metadata": {},
   "outputs": [
    {
     "data": {
      "text/plain": [
       "(LogisticRegression(),\n",
       " KNeighborsClassifier(n_neighbors=1),\n",
       " DecisionTreeClassifier(max_depth=2))"
      ]
     },
     "execution_count": 1080,
     "metadata": {},
     "output_type": "execute_result"
    }
   ],
   "source": [
    "# 3.3.1\n",
    "def fit(Xt, yt):\n",
    "    # fit LogisticRegression\n",
    "    m_log = LogisticRegression()\n",
    "    _ = m_log.fit(Xt, yt)\n",
    "    # fit KNeighborsClassifier\n",
    "    mk = KNeighborsClassifier(1)\n",
    "    _ = mk.fit(Xt, yt)\n",
    "    # fit DecisionTreeClassifier\n",
    "    m_tree = DecisionTreeClassifier(max_depth = 2)\n",
    "    _ = m_tree.fit(Xt, yt)\n",
    "    return m_log, mk, m_tree\n",
    "fit(Xt, yt)"
   ]
  },
  {
   "cell_type": "code",
   "execution_count": 1081,
   "id": "19b05454-afbf-4c57-99f9-17e0bb6506cc",
   "metadata": {},
   "outputs": [
    {
     "data": {
      "text/plain": [
       "array([False, False, False, ..., False, False, False])"
      ]
     },
     "execution_count": 1081,
     "metadata": {},
     "output_type": "execute_result"
    }
   ],
   "source": [
    "# 3.3.2\n",
    "# this is bagging in ensemble methods!\n",
    "m_log = fit(Xt, yt)[0]\n",
    "mk = fit(Xt, yt)[1]\n",
    "m_tree = fit(Xt, yt)[2]\n",
    "yhat = ()\n",
    "def score(m_log, mk, m_tree, Xv, yv):\n",
    "    # predict outcome using Xv for each model\n",
    "    log_yhat = m_log.predict(Xv)\n",
    "    mk_yhat = mk.predict(Xv)\n",
    "    tree_yhat = m_tree.predict(Xv)\n",
    "    # create majority category that returns majority value of the three predicted values\n",
    "    yhat = (log_yhat + mk_yhat + tree_yhat) > 1.5\n",
    "    return yhat\n",
    "score(m_log, mk, m_tree, Xv, yv)"
   ]
  },
  {
   "cell_type": "markdown",
   "id": "ed886ef1-325f-4c55-8012-fa2afe30c54d",
   "metadata": {},
   "source": [
    "**3.3.3**\n",
    "If you think of matrices, yhat = yhat 1 + yhat 2 + yhat 3 gives us a matries constructed with majority variable in all three predictions. let's say majority here is going bankrupt. The following matrix yhat will have 1 if yhat1, yhat2, yhat3 has two or more 1 values. This is why we have 1.5 or even 2 for our \"> 1.5\" comparing number. It is to identify if 1(bankrupt) is majority or not. It is a good threshold since we have three variables, and 1.5 of 1s indicate two or more 1 in yhat."
   ]
  },
  {
   "cell_type": "code",
   "execution_count": 1082,
   "id": "b7bfbce5-fce5-4e1e-99c2-fc01759deb60",
   "metadata": {},
   "outputs": [
    {
     "name": "stdout",
     "output_type": "stream",
     "text": [
      "average accuracy of ensemble model: 0.9699413489736071\n"
     ]
    }
   ],
   "source": [
    "# 3.3.4\n",
    "# calculating avg_accuracy with exsemble prediction (majority category)\n",
    "yhat = score(m_log, mk, m_tree, Xv, yv)\n",
    "avg_accuracy = np.mean(yhat == yv)\n",
    "print(\"average accuracy of ensemble model:\", avg_accuracy)"
   ]
  },
  {
   "cell_type": "code",
   "execution_count": 1083,
   "id": "a0bd0724-c11e-4cb0-9d96-467bcd14e751",
   "metadata": {},
   "outputs": [
    {
     "data": {
      "text/plain": [
       "(KNeighborsClassifier(n_neighbors=10), DecisionTreeClassifier(max_depth=10))"
      ]
     },
     "execution_count": 1083,
     "metadata": {},
     "output_type": "execute_result"
    }
   ],
   "source": [
    "# 3.3.5\n",
    "def add_fit(Xt, yt):\n",
    "    # fit KNeighborsClassifier\n",
    "    mk_add = KNeighborsClassifier(10)\n",
    "    _ = mk_add.fit(Xt, yt)\n",
    "    # fit DecisionTreeClassifier\n",
    "    m_tree_add = DecisionTreeClassifier(max_depth = 10)\n",
    "    _ = m_tree_add.fit(Xt, yt)\n",
    "    return mk_add, m_tree_add\n",
    "add_fit(Xt, yt)"
   ]
  },
  {
   "cell_type": "markdown",
   "id": "9e57e4ff-c2db-4312-9888-18b9a6a4cf5a",
   "metadata": {},
   "source": [
    "**3.3.6**\n",
    "ensemble estimators give better results than the individual ones. I believe adding more on the ensemble model should improve the results since there are more data to calculate the average accuracy."
   ]
  },
  {
   "cell_type": "markdown",
   "id": "145a8c16-0ab4-46b9-9c97-5e47606c94c2",
   "metadata": {},
   "source": [
    "**3.3.7** <br>\n",
    "Ensemble estimator gives better results than individual ones since it calcualtes the average accuracy of multiple models with multiple hyperparameteres. The numerical accuracy results also shows that ensemble estimator has higher accuracy than individually calculated ones that are above. <br>\n",
    "Adding more models did improve the average accuracy of the added ensemble model since it has higher accuracy rate. I believe it's because of the diversity of the model where I changed k and max_depth value on the added version."
   ]
  },
  {
   "cell_type": "code",
   "execution_count": 1084,
   "id": "08bbdab7-10b4-41aa-b431-3b3e0f5e3818",
   "metadata": {},
   "outputs": [
    {
     "name": "stdout",
     "output_type": "stream",
     "text": [
      "average accuracy with added ensemble model: 0.9706744868035191\n"
     ]
    }
   ],
   "source": [
    "# 3.3.7\n",
    "# calculate score adding on more estimators to your ensemble\n",
    "mk_add = add_fit(Xt, yt)[0]\n",
    "m_tree_add = add_fit(Xt, yt)[1]\n",
    "yhat = ()\n",
    "def score(m_log, mk, m_tree, Xv, yv, mk_add, m_tree_add):\n",
    "    # predict outcome using Xv for each model\n",
    "    log_yhat = m_log.predict(Xv)\n",
    "    mk_yhat = mk.predict(Xv)\n",
    "    tree_yhat = m_tree.predict(Xv)\n",
    "    mk_add_yhat = mk_add.predict(Xv)\n",
    "    m_tree_add_yhat = m_tree_add.predict(Xv)\n",
    "    # create majority category that returns majority value of the three predicted values\n",
    "    yhat = (log_yhat + mk_yhat + tree_yhat + mk_add_yhat + m_tree_add_yhat) > 2.5\n",
    "    return yhat\n",
    "yhat_added = score(m_log, mk, m_tree, Xv, yv, mk_add, m_tree_add)\n",
    "avg_accuracy_added = np.mean(yhat_added == yv)\n",
    "print(\"average accuracy with added ensemble model:\", avg_accuracy_added)"
   ]
  }
 ],
 "metadata": {
  "kernelspec": {
   "display_name": "Python 3 (ipykernel)",
   "language": "python",
   "name": "python3"
  },
  "language_info": {
   "codemirror_mode": {
    "name": "ipython",
    "version": 3
   },
   "file_extension": ".py",
   "mimetype": "text/x-python",
   "name": "python",
   "nbconvert_exporter": "python",
   "pygments_lexer": "ipython3",
   "version": "3.9.5"
  }
 },
 "nbformat": 4,
 "nbformat_minor": 5
}
